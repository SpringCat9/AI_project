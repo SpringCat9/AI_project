{
 "cells": [
  {
   "cell_type": "code",
   "execution_count": 26,
   "metadata": {},
   "outputs": [],
   "source": [
    "import tensorflow as tf\n",
    "import numpy as np\n",
    "import matplotlib.pyplot as plt\n",
    "import cv2\n",
    "import os\n",
    "from tensorflow.keras.layers import *\n",
    "from tensorflow.keras.models import Model,Sequential\n",
    "from tensorflow.keras.preprocessing.image import ImageDataGenerator\n",
    "\n",
    "%matplotlib inline"
   ]
  },
  {
   "cell_type": "code",
   "execution_count": 27,
   "metadata": {},
   "outputs": [
    {
     "name": "stdout",
     "output_type": "stream",
     "text": [
      "Found 9180 images belonging to 3 classes.\n",
      "Found 3060 images belonging to 3 classes.\n",
      "Found 3060 images belonging to 3 classes.\n"
     ]
    }
   ],
   "source": [
    "batch_size=32\n",
    "target_size=(200,200)\n",
    "\n",
    "gen = ImageDataGenerator(rescale=1/255.)\n",
    "train_gen = gen.flow_from_directory('./data/train/', target_size=target_size, class_mode='categorical', batch_size=batch_size, shuffle=True)\n",
    "valid_gen = gen.flow_from_directory('./data/valid/', target_size=target_size, class_mode='categorical', batch_size=batch_size, shuffle=True)\n",
    "test_gen = gen.flow_from_directory('./data/test/', target_size=target_size, class_mode='categorical', batch_size=batch_size, shuffle=True)"
   ]
  },
  {
   "cell_type": "code",
   "execution_count": 28,
   "metadata": {},
   "outputs": [],
   "source": [
    "model = tf.keras.models.Sequential([\n",
    "    tf.keras.layers.Conv2D(filters = 32,\n",
    "                          kernel_size = (3,3),\n",
    "                          activation = 'relu',\n",
    "                          padding = 'SAME',\n",
    "                          input_shape = (200, 200, 3)),\n",
    "    tf.keras.layers.MaxPool2D((2,2)),\n",
    "    tf.keras.layers.Conv2D(filters = 64,\n",
    "                          kernel_size = (3,3),\n",
    "                          activation = 'relu',\n",
    "                          padding = 'SAME'),\n",
    "    tf.keras.layers.MaxPool2D((2,2)),\n",
    "    tf.keras.layers.Conv2D(filters = 64,\n",
    "                          kernel_size = (3,3),\n",
    "                          activation = 'relu',\n",
    "                          padding = 'SAME'),\n",
    "    tf.keras.layers.MaxPool2D((2,2)),\n",
    "    tf.keras.layers.Conv2D(filters = 64,\n",
    "                          kernel_size = (3,3),\n",
    "                          activation = 'relu',\n",
    "                          padding = 'SAME'),\n",
    "    tf.keras.layers.GlobalAveragePooling2D(),\n",
    "    tf.keras.layers.Dense(units = 128, activation = 'relu'),\n",
    "    tf.keras.layers.Dense(units = 3, activation = 'softmax')\n",
    "])"
   ]
  },
  {
   "cell_type": "code",
   "execution_count": 29,
   "metadata": {},
   "outputs": [
    {
     "name": "stdout",
     "output_type": "stream",
     "text": [
      "Model: \"sequential_2\"\n",
      "_________________________________________________________________\n",
      "Layer (type)                 Output Shape              Param #   \n",
      "=================================================================\n",
      "conv2d_8 (Conv2D)            (None, 200, 200, 32)      896       \n",
      "_________________________________________________________________\n",
      "max_pooling2d_6 (MaxPooling2 (None, 100, 100, 32)      0         \n",
      "_________________________________________________________________\n",
      "conv2d_9 (Conv2D)            (None, 100, 100, 64)      18496     \n",
      "_________________________________________________________________\n",
      "max_pooling2d_7 (MaxPooling2 (None, 50, 50, 64)        0         \n",
      "_________________________________________________________________\n",
      "conv2d_10 (Conv2D)           (None, 50, 50, 64)        36928     \n",
      "_________________________________________________________________\n",
      "max_pooling2d_8 (MaxPooling2 (None, 25, 25, 64)        0         \n",
      "_________________________________________________________________\n",
      "conv2d_11 (Conv2D)           (None, 25, 25, 64)        36928     \n",
      "_________________________________________________________________\n",
      "global_average_pooling2d_2 ( (None, 64)                0         \n",
      "_________________________________________________________________\n",
      "dense_4 (Dense)              (None, 128)               8320      \n",
      "_________________________________________________________________\n",
      "dense_5 (Dense)              (None, 3)                 387       \n",
      "=================================================================\n",
      "Total params: 101,955\n",
      "Trainable params: 101,955\n",
      "Non-trainable params: 0\n",
      "_________________________________________________________________\n"
     ]
    }
   ],
   "source": [
    "model.summary()"
   ]
  },
  {
   "cell_type": "code",
   "execution_count": 35,
   "metadata": {},
   "outputs": [
    {
     "name": "stdout",
     "output_type": "stream",
     "text": [
      "Epoch 1/20\n",
      "287/287 [==============================] - 18s 63ms/step - loss: 0.6836 - accuracy: 0.6977 - val_loss: 0.5096 - val_accuracy: 0.7931\n",
      "Epoch 2/20\n",
      "287/287 [==============================] - 18s 62ms/step - loss: 0.3926 - accuracy: 0.8517 - val_loss: 0.4792 - val_accuracy: 0.7984\n",
      "Epoch 3/20\n",
      "287/287 [==============================] - 18s 63ms/step - loss: 0.2836 - accuracy: 0.8944 - val_loss: 0.2711 - val_accuracy: 0.8869\n",
      "Epoch 4/20\n",
      "287/287 [==============================] - 18s 62ms/step - loss: 0.2360 - accuracy: 0.9126 - val_loss: 0.3686 - val_accuracy: 0.8820\n",
      "Epoch 5/20\n",
      "287/287 [==============================] - 18s 62ms/step - loss: 0.1744 - accuracy: 0.9332 - val_loss: 0.2452 - val_accuracy: 0.9046\n",
      "Epoch 6/20\n",
      "287/287 [==============================] - 18s 62ms/step - loss: 0.1408 - accuracy: 0.9493 - val_loss: 0.2209 - val_accuracy: 0.9082\n",
      "Epoch 7/20\n",
      "287/287 [==============================] - 18s 61ms/step - loss: 0.1177 - accuracy: 0.9526 - val_loss: 0.2166 - val_accuracy: 0.9369\n",
      "Epoch 8/20\n",
      "287/287 [==============================] - 18s 62ms/step - loss: 0.0933 - accuracy: 0.9668 - val_loss: 0.2333 - val_accuracy: 0.9170\n",
      "Epoch 9/20\n",
      "287/287 [==============================] - 18s 62ms/step - loss: 0.0779 - accuracy: 0.9706 - val_loss: 0.2048 - val_accuracy: 0.9183\n",
      "Epoch 10/20\n",
      "287/287 [==============================] - 18s 61ms/step - loss: 0.0754 - accuracy: 0.9731 - val_loss: 0.2136 - val_accuracy: 0.9291\n",
      "Epoch 11/20\n",
      "287/287 [==============================] - 18s 62ms/step - loss: 0.0709 - accuracy: 0.9725 - val_loss: 0.1882 - val_accuracy: 0.9350\n",
      "Epoch 12/20\n",
      "287/287 [==============================] - 17s 58ms/step - loss: 0.0409 - accuracy: 0.9856 - val_loss: 0.1456 - val_accuracy: 0.9464\n",
      "Epoch 13/20\n",
      "287/287 [==============================] - 17s 59ms/step - loss: 0.0304 - accuracy: 0.9901 - val_loss: 0.1709 - val_accuracy: 0.9327\n",
      "Epoch 14/20\n",
      "287/287 [==============================] - 18s 61ms/step - loss: 0.0609 - accuracy: 0.9794 - val_loss: 0.1703 - val_accuracy: 0.9451\n",
      "Epoch 15/20\n",
      "287/287 [==============================] - 17s 60ms/step - loss: 0.0252 - accuracy: 0.9912 - val_loss: 0.1979 - val_accuracy: 0.9324\n",
      "Epoch 16/20\n",
      "287/287 [==============================] - 18s 62ms/step - loss: 0.0371 - accuracy: 0.9879 - val_loss: 0.3761 - val_accuracy: 0.9098\n",
      "Epoch 17/20\n",
      "287/287 [==============================] - 17s 61ms/step - loss: 0.0445 - accuracy: 0.9852 - val_loss: 0.1596 - val_accuracy: 0.9467\n",
      "Epoch 18/20\n",
      "287/287 [==============================] - 18s 62ms/step - loss: 0.0319 - accuracy: 0.9889 - val_loss: 0.1960 - val_accuracy: 0.9294\n",
      "Epoch 19/20\n",
      "287/287 [==============================] - 18s 62ms/step - loss: 0.0109 - accuracy: 0.9966 - val_loss: 0.1824 - val_accuracy: 0.9444\n",
      "Epoch 20/20\n",
      "287/287 [==============================] - 17s 61ms/step - loss: 0.0240 - accuracy: 0.9932 - val_loss: 0.3526 - val_accuracy: 0.9039\n"
     ]
    },
    {
     "data": {
      "text/plain": [
       "<tensorflow.python.keras.callbacks.History at 0x7f559731edf0>"
      ]
     },
     "execution_count": 35,
     "metadata": {},
     "output_type": "execute_result"
    }
   ],
   "source": [
    "model.compile(optimizer = 'adam', loss = 'categorical_crossentropy', metrics = 'accuracy')\n",
    "model.fit(train_gen, validation_data=valid_gen, epochs=20)"
   ]
  },
  {
   "cell_type": "code",
   "execution_count": 36,
   "metadata": {},
   "outputs": [
    {
     "name": "stdout",
     "output_type": "stream",
     "text": [
      "96/96 [==============================] - 4s 45ms/step - loss: 0.4183 - accuracy: 0.9033\n",
      "Test loss: 0.4182989001274109\n",
      "Test accuracy: 0.9032679796218872\n"
     ]
    }
   ],
   "source": [
    "score = model.evaluate(test_gen) \n",
    "\n",
    "print('Test loss:', score[0]) \n",
    "print('Test accuracy:', score[1])"
   ]
  },
  {
   "cell_type": "code",
   "execution_count": null,
   "metadata": {},
   "outputs": [],
   "source": []
  }
 ],
 "metadata": {
  "kernelspec": {
   "display_name": "Python 3",
   "language": "python",
   "name": "python3"
  },
  "language_info": {
   "codemirror_mode": {
    "name": "ipython",
    "version": 3
   },
   "file_extension": ".py",
   "mimetype": "text/x-python",
   "name": "python",
   "nbconvert_exporter": "python",
   "pygments_lexer": "ipython3",
   "version": "3.8.0"
  }
 },
 "nbformat": 4,
 "nbformat_minor": 4
}
