{
 "cells": [
  {
   "cell_type": "code",
   "execution_count": 1,
   "metadata": {},
   "outputs": [],
   "source": [
    "import tensorflow as tf\n",
    "import numpy as np\n",
    "import matplotlib.pyplot as plt\n",
    "import cv2\n",
    "import os\n",
    "from tensorflow.keras import models\n",
    "from tensorflow.keras import layers\n",
    "from tensorflow.keras.preprocessing.image import ImageDataGenerator\n",
    "\n",
    "%matplotlib inline"
   ]
  },
  {
   "cell_type": "code",
   "execution_count": 2,
   "metadata": {},
   "outputs": [
    {
     "name": "stdout",
     "output_type": "stream",
     "text": [
      "Found 36720 images belonging to 12 classes.\n",
      "Found 12240 images belonging to 12 classes.\n",
      "Found 12240 images belonging to 12 classes.\n"
     ]
    }
   ],
   "source": [
    "class_num = 12\n",
    "batch_size=32\n",
    "target_size=(200,200)\n",
    "\n",
    "gen = ImageDataGenerator(rescale=1/255.)\n",
    "train_gen = gen.flow_from_directory('./data/train/', target_size=target_size, class_mode='categorical', batch_size=batch_size, shuffle=True)\n",
    "valid_gen = gen.flow_from_directory('./data/valid/', target_size=target_size, class_mode='categorical', batch_size=batch_size, shuffle=True)\n",
    "test_gen = gen.flow_from_directory('./data/test/', target_size=target_size, class_mode='categorical', batch_size=batch_size, shuffle=True)"
   ]
  },
  {
   "cell_type": "code",
   "execution_count": 3,
   "metadata": {
    "collapsed": true,
    "jupyter": {
     "outputs_hidden": true,
     "source_hidden": true
    },
    "tags": []
   },
   "outputs": [
    {
     "name": "stdout",
     "output_type": "stream",
     "text": [
      "Model: \"vgg16\"\n",
      "_________________________________________________________________\n",
      "Layer (type)                 Output Shape              Param #   \n",
      "=================================================================\n",
      "input_1 (InputLayer)         [(None, 200, 200, 3)]     0         \n",
      "_________________________________________________________________\n",
      "block1_conv1 (Conv2D)        (None, 200, 200, 64)      1792      \n",
      "_________________________________________________________________\n",
      "block1_conv2 (Conv2D)        (None, 200, 200, 64)      36928     \n",
      "_________________________________________________________________\n",
      "block1_pool (MaxPooling2D)   (None, 100, 100, 64)      0         \n",
      "_________________________________________________________________\n",
      "block2_conv1 (Conv2D)        (None, 100, 100, 128)     73856     \n",
      "_________________________________________________________________\n",
      "block2_conv2 (Conv2D)        (None, 100, 100, 128)     147584    \n",
      "_________________________________________________________________\n",
      "block2_pool (MaxPooling2D)   (None, 50, 50, 128)       0         \n",
      "_________________________________________________________________\n",
      "block3_conv1 (Conv2D)        (None, 50, 50, 256)       295168    \n",
      "_________________________________________________________________\n",
      "block3_conv2 (Conv2D)        (None, 50, 50, 256)       590080    \n",
      "_________________________________________________________________\n",
      "block3_conv3 (Conv2D)        (None, 50, 50, 256)       590080    \n",
      "_________________________________________________________________\n",
      "block3_pool (MaxPooling2D)   (None, 25, 25, 256)       0         \n",
      "_________________________________________________________________\n",
      "block4_conv1 (Conv2D)        (None, 25, 25, 512)       1180160   \n",
      "_________________________________________________________________\n",
      "block4_conv2 (Conv2D)        (None, 25, 25, 512)       2359808   \n",
      "_________________________________________________________________\n",
      "block4_conv3 (Conv2D)        (None, 25, 25, 512)       2359808   \n",
      "_________________________________________________________________\n",
      "block4_pool (MaxPooling2D)   (None, 12, 12, 512)       0         \n",
      "_________________________________________________________________\n",
      "block5_conv1 (Conv2D)        (None, 12, 12, 512)       2359808   \n",
      "_________________________________________________________________\n",
      "block5_conv2 (Conv2D)        (None, 12, 12, 512)       2359808   \n",
      "_________________________________________________________________\n",
      "block5_conv3 (Conv2D)        (None, 12, 12, 512)       2359808   \n",
      "_________________________________________________________________\n",
      "block5_pool (MaxPooling2D)   (None, 6, 6, 512)         0         \n",
      "=================================================================\n",
      "Total params: 14,714,688\n",
      "Trainable params: 14,714,688\n",
      "Non-trainable params: 0\n",
      "_________________________________________________________________\n"
     ]
    }
   ],
   "source": [
    "from tensorflow.keras.applications import VGG16\n",
    "\n",
    "vgg_base = VGG16(weights='imagenet',\n",
    "                 include_top=False,        # class 3개로 분류 학습시켜야 해서 레이어 분리시킨 후, Desnse(3) 추가..?\n",
    "                 input_shape=(200, 200, 3))\n",
    "\n",
    "vgg_base.summary()"
   ]
  },
  {
   "cell_type": "code",
   "execution_count": 4,
   "metadata": {
    "tags": []
   },
   "outputs": [
    {
     "name": "stdout",
     "output_type": "stream",
     "text": [
      "Model: \"sequential\"\n",
      "_________________________________________________________________\n",
      "Layer (type)                 Output Shape              Param #   \n",
      "=================================================================\n",
      "vgg16 (Functional)           (None, 6, 6, 512)         14714688  \n",
      "_________________________________________________________________\n",
      "flatten (Flatten)            (None, 18432)             0         \n",
      "_________________________________________________________________\n",
      "dense (Dense)                (None, 256)               4718848   \n",
      "_________________________________________________________________\n",
      "dense_1 (Dense)              (None, 12)                3084      \n",
      "=================================================================\n",
      "Total params: 19,436,620\n",
      "Trainable params: 19,436,620\n",
      "Non-trainable params: 0\n",
      "_________________________________________________________________\n"
     ]
    }
   ],
   "source": [
    "model = models.Sequential()\n",
    "model.add(vgg_base)\n",
    "model.add(layers.Flatten())\n",
    "model.add(layers.Dense(256, activation='relu'))\n",
    "model.add(layers.Dense(class_num, activation='sigmoid'))\n",
    "model.summary()"
   ]
  },
  {
   "cell_type": "code",
   "execution_count": 5,
   "metadata": {},
   "outputs": [
    {
     "name": "stdout",
     "output_type": "stream",
     "text": [
      "Epoch 1/5\n",
      "   2/1148 [..............................] - ETA: 1:43 - loss: 2.5520 - accuracy: 0.1250WARNING:tensorflow:Callbacks method `on_train_batch_end` is slow compared to the batch time (batch time: 0.0570s vs `on_train_batch_end` time: 0.1224s). Check your callbacks.\n",
      "1148/1148 [==============================] - ETA: 0s - loss: 0.5549 - accuracy: 0.8193\n",
      "Epoch 00001: val_loss improved from inf to 0.56366, saving model to ./save_models/VGG16_12class/\n",
      "WARNING:tensorflow:From /usr/local/lib/python3.8/dist-packages/tensorflow/python/training/tracking/tracking.py:111: Model.state_updates (from tensorflow.python.keras.engine.training) is deprecated and will be removed in a future version.\n",
      "Instructions for updating:\n",
      "This property should not be used in TensorFlow 2.0, as updates are applied automatically.\n",
      "WARNING:tensorflow:From /usr/local/lib/python3.8/dist-packages/tensorflow/python/training/tracking/tracking.py:111: Layer.updates (from tensorflow.python.keras.engine.base_layer) is deprecated and will be removed in a future version.\n",
      "Instructions for updating:\n",
      "This property should not be used in TensorFlow 2.0, as updates are applied automatically.\n",
      "INFO:tensorflow:Assets written to: ./save_models/VGG16_12class/assets\n",
      "1148/1148 [==============================] - 237s 207ms/step - loss: 0.5549 - accuracy: 0.8193 - val_loss: 0.5637 - val_accuracy: 0.8417\n",
      "Epoch 2/5\n",
      "1148/1148 [==============================] - ETA: 0s - loss: 0.0520 - accuracy: 0.9843\n",
      "Epoch 00002: val_loss did not improve from 0.56366\n",
      "1148/1148 [==============================] - 236s 205ms/step - loss: 0.0520 - accuracy: 0.9843 - val_loss: 0.5813 - val_accuracy: 0.8519\n",
      "Epoch 3/5\n",
      "1148/1148 [==============================] - ETA: 0s - loss: 0.0193 - accuracy: 0.9947\n",
      "Epoch 00003: val_loss did not improve from 0.56366\n",
      "1148/1148 [==============================] - 236s 206ms/step - loss: 0.0193 - accuracy: 0.9947 - val_loss: 0.5664 - val_accuracy: 0.8671\n",
      "Epoch 4/5\n",
      "1148/1148 [==============================] - ETA: 0s - loss: 0.0175 - accuracy: 0.9946\n",
      "Epoch 00004: val_loss did not improve from 0.56366\n",
      "1148/1148 [==============================] - 236s 205ms/step - loss: 0.0175 - accuracy: 0.9946 - val_loss: 0.7121 - val_accuracy: 0.8489\n",
      "Epoch 5/5\n",
      "1148/1148 [==============================] - ETA: 0s - loss: 0.0159 - accuracy: 0.9950\n",
      "Epoch 00005: val_loss did not improve from 0.56366\n",
      "1148/1148 [==============================] - 236s 206ms/step - loss: 0.0159 - accuracy: 0.9950 - val_loss: 0.6115 - val_accuracy: 0.8801\n"
     ]
    }
   ],
   "source": [
    "#저장할 모델명(폴더명)\n",
    "model_name = 'VGG16_12class'\n",
    "\n",
    "#폴더생성\n",
    "if 'save_models' not in os.listdir(): os.mkdir('save_models')\n",
    "if model_name not in os.listdir('save_models'): os.mkdir('./save_models/{}'.format(model_name))\n",
    "#모델 저장 path\n",
    "path_checkpoint = \"./save_models/{}/\".format(model_name) \n",
    "#모델 저장 코드(weight만 저장)\n",
    "es_callback = tf.keras.callbacks.EarlyStopping(monitor=\"val_loss\", min_delta=0, patience=5, restore_best_weights=True)\n",
    "modelckpt_callback = tf.keras.callbacks.ModelCheckpoint(monitor=\"val_loss\", filepath=path_checkpoint, verbose=1, save_weights_only=False, save_best_only=True, save_format='tf')\n",
    "\n",
    "#fit\n",
    "optimizer = tf.keras.optimizers.Adam(lr=0.00001)\n",
    "model.compile(optimizer = optimizer, loss = 'categorical_crossentropy', metrics = 'accuracy')\n",
    "history = model.fit(train_gen, validation_data=valid_gen, batch_size=batch_size, epochs=5, callbacks=[es_callback, modelckpt_callback])"
   ]
  },
  {
   "cell_type": "code",
   "execution_count": 8,
   "metadata": {},
   "outputs": [
    {
     "data": {
      "text/plain": [
       "<matplotlib.legend.Legend at 0x7f259c2c9af0>"
      ]
     },
     "execution_count": 8,
     "metadata": {},
     "output_type": "execute_result"
    },
    {
     "data": {
      "image/png": "[encoded data removed]",
      "text/plain": [
       "<Figure size 432x288 with 1 Axes>"
      ]
     },
     "metadata": {
      "needs_background": "light"
     },
     "output_type": "display_data"
    }
   ],
   "source": [
    "plt.plot(history.history['accuracy'])\n",
    "plt.plot(history.history['val_accuracy'])\n",
    "plt.title('ACCURACY')\n",
    "plt.xlabel('epoch')\n",
    "plt.ylabel('accuracy')\n",
    "plt.grid()\n",
    "plt.legend(['train','validation'], loc = 'best')"
   ]
  },
  {
   "cell_type": "code",
   "execution_count": 9,
   "metadata": {},
   "outputs": [
    {
     "name": "stdout",
     "output_type": "stream",
     "text": [
      "383/383 [==============================] - 23s 60ms/step - loss: 0.3332 - accuracy: 0.9078\n",
      "Test loss: 0.33320459723472595\n",
      "Test accuracy: 0.9077614545822144\n"
     ]
    }
   ],
   "source": [
    "#저장된 최고 성능 모델 불러오기\n",
    "model_loaded = tf.keras.models.load_model(path_checkpoint)\n",
    "\n",
    "#test score 확인\n",
    "score = model_loaded.evaluate(test_gen) \n",
    "\n",
    "print('Test loss:', score[0]) \n",
    "print('Test accuracy:', score[1])"
   ]
  },
  {
   "cell_type": "code",
   "execution_count": 10,
   "metadata": {},
   "outputs": [],
   "source": [
    "# 폴더 제거\n",
    "import shutil\n",
    "for i in ['Xception']: shutil.rmtree(i)"
   ]
  },
  {
   "cell_type": "code",
   "execution_count": null,
   "metadata": {},
   "outputs": [],
   "source": []
  }
 ],
 "metadata": {
  "kernelspec": {
   "display_name": "Python 3",
   "language": "python",
   "name": "python3"
  },
  "language_info": {
   "codemirror_mode": {
    "name": "ipython",
    "version": 3
   },
   "file_extension": ".py",
   "mimetype": "text/x-python",
   "name": "python",
   "nbconvert_exporter": "python",
   "pygments_lexer": "ipython3",
   "version": "3.8.0"
  }
 },
 "nbformat": 4,
 "nbformat_minor": 4
}
