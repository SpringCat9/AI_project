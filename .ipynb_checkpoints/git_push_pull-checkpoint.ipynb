{
 "cells": [
  {
   "cell_type": "code",
   "execution_count": 1,
   "id": "75c27bf5-20df-46e5-8e8e-d7c1895a8299",
   "metadata": {},
   "outputs": [
    {
     "name": "stdout",
     "output_type": "stream",
     "text": [
      "Fetching origin\n",
      "HEAD is now at 67a0d53 no message\n",
      "Already up to date.\n"
     ]
    }
   ],
   "source": [
    "%%bash\n",
    "bash\n",
    "git fetch --all\n",
    "git reset --hard origin/main\n",
    "git pull"
   ]
  },
  {
   "cell_type": "code",
   "execution_count": 2,
   "id": "c069e71e-d373-4856-9db1-fa81d1432668",
   "metadata": {},
   "outputs": [
    {
     "name": "stdout",
     "output_type": "stream",
     "text": [
      "['01_Tutorial', '02_Classification', '03_finetuning', '04_Regression_Customdata', '05_Image_retrieval', '06_Image_interpretability', '07_Detection', '08_Segmentation', '09_GAN', '10_Transformer']\n"
     ]
    }
   ],
   "source": [
    "import os\n",
    "from distutils.dir_util import copy_tree #파일 존재시, 복사 덮어쓰기\n",
    "path = '/root/code/7_딥러닝과컴퓨터비전/' #파일 이동 path\n",
    "\n",
    "folders = [i for i in os.listdir() if os.path.isdir(i) if i[0].isdigit()]\n",
    "for folder in folders: copy_tree(folder, path+folder)\n",
    "    \n",
    "print(sorted(folders))"
   ]
  }
 ],
 "metadata": {
  "kernelspec": {
   "display_name": "Python 3",
   "language": "python",
   "name": "python3"
  },
  "language_info": {
   "codemirror_mode": {
    "name": "ipython",
    "version": 3
   },
   "file_extension": ".py",
   "mimetype": "text/x-python",
   "name": "python",
   "nbconvert_exporter": "python",
   "pygments_lexer": "ipython3",
   "version": "3.8.0"
  }
 },
 "nbformat": 4,
 "nbformat_minor": 5
}
