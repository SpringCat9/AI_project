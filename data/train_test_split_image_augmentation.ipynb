{
 "cells": [
  {
   "cell_type": "code",
   "execution_count": 57,
   "id": "c41fdb36-9fd0-473b-8fb3-d73eba2978c9",
   "metadata": {},
   "outputs": [],
   "source": [
    "import math\n",
    "import cv2\n",
    "import numpy as np\n",
    "import os\n",
    "import shutil"
   ]
  },
  {
   "cell_type": "code",
   "execution_count": 71,
   "id": "b340cc6b-ca19-462a-b293-a908c3cac58a",
   "metadata": {},
   "outputs": [
    {
     "data": {
      "text/plain": [
       "[]"
      ]
     },
     "execution_count": 71,
     "metadata": {},
     "output_type": "execute_result"
    }
   ],
   "source": [
    "#train, valid test 폴더 생성\n",
    "for _ in ['train', 'valid', 'test', 'train_ori', 'valid_ori', 'test_ori']:\n",
    "    if _ not in os.listdir(): os.mkdir(_)\n",
    "    \n",
    "Folder = [i for i in os.listdir() if os.path.isdir(i)]\n",
    "classes = [i for i in Folder if i not in ['.ipynb_checkpoints', 'test', 'train', 'valid', 'train_ori', 'valid_ori', 'test_ori']]\n",
    "classes"
   ]
  },
  {
   "cell_type": "code",
   "execution_count": 60,
   "id": "a98a47b0-f709-4021-afba-c7392cb4e385",
   "metadata": {},
   "outputs": [],
   "source": [
    "#간단한 이름 변경\n",
    "for i, store in enumerate(classes):\n",
    "    for j, file in enumerate(os.listdir(store)):\n",
    "        os.rename('./'+store+'/'+file, './'+store+'/{}_'.format(i+1)+store+'_{0:04d}.jpg'.format(j+1))"
   ]
  },
  {
   "cell_type": "code",
   "execution_count": 64,
   "id": "7067da3e-b107-4cc6-8fc7-e82195742439",
   "metadata": {},
   "outputs": [],
   "source": [
    "#300개 초과하는 파일 제거\n",
    "for store in classes:\n",
    "    pic_list = [i for i in os.listdir(store)]\n",
    "    for i in pic_list[300:]:\n",
    "        os.remove('./'+store+'/'+i)"
   ]
  },
  {
   "cell_type": "code",
   "execution_count": 67,
   "id": "74458e81-35ba-4026-b8b2-10f0b69a5dc9",
   "metadata": {},
   "outputs": [
    {
     "name": "stdout",
     "output_type": "stream",
     "text": [
      "300개의 사진에서 60% train, 20% valid, 20% test로 나눔\n"
     ]
    }
   ],
   "source": [
    "print(f'{len(os.listdir(store))}개의 사진에서 60% train, 20% valid, 20% test로 나눔')\n",
    "\n",
    "# 파일 이동시키기 및 폴더삭제\n",
    "for store in classes:\n",
    "    pic_list = [i for i in os.listdir(store)]\n",
    "    for i in range(180):\n",
    "        shutil.move('./'+store+'/'+pic_list[i],'train_ori')\n",
    "    for i in range(180,240):\n",
    "        shutil.move('./'+store+'/'+pic_list[i],'valid_ori')\n",
    "    for i in range(240,300):\n",
    "        shutil.move('./'+store+'/'+pic_list[i],'test_ori')\n",
    "    os.rmdir(store)"
   ]
  },
  {
   "cell_type": "code",
   "execution_count": 90,
   "id": "54e57df3-6ec9-4a02-9de4-625c8e1eeacb",
   "metadata": {},
   "outputs": [],
   "source": [
    "def imread(filename, flags=cv2.IMREAD_COLOR, dtype=np.uint8):\n",
    "    try:\n",
    "        n = np.fromfile(filename, dtype)\n",
    "        img = cv2.imdecode(n, flags)\n",
    "        return img\n",
    "    except Exception as e:\n",
    "        print(e)\n",
    "        return None\n",
    "    \n",
    "def imwrite(filename, img, params=None):\n",
    "    try:\n",
    "        ext = os.path.splitext(filename)[1]\n",
    "        result, n = cv2.imencode(ext, img, params)\n",
    "\n",
    "        if result:\n",
    "            with open(filename, mode='w+b') as f:\n",
    "                n.tofile(f)\n",
    "            return True\n",
    "        else:\n",
    "            return False\n",
    "    except Exception as e:\n",
    "        print(e)\n",
    "        return False\n",
    "    \n",
    "def rotate_image(image, angle):\n",
    "\n",
    "    # Get the image size\n",
    "    # No that's not an error - NumPy stores image matricies backwards\n",
    "    image_size = (image.shape[1], image.shape[0])\n",
    "    image_center = tuple(np.array(image_size) / 2)\n",
    "\n",
    "    # Convert the OpenCV 3x2 rotation matrix to 3x3\n",
    "    rot_mat = np.vstack(\n",
    "        [cv2.getRotationMatrix2D(image_center, angle, 1.0), [0, 0, 1]]\n",
    "    )\n",
    "\n",
    "    rot_mat_notranslate = np.matrix(rot_mat[0:2, 0:2])\n",
    "\n",
    "    # Shorthand for below calcs\n",
    "    image_w2 = image_size[0] * 0.5\n",
    "    image_h2 = image_size[1] * 0.5\n",
    "\n",
    "    # Obtain the rotated coordinates of the image corners\n",
    "    rotated_coords = [\n",
    "        (np.array([-image_w2,  image_h2]) * rot_mat_notranslate).A[0],\n",
    "        (np.array([ image_w2,  image_h2]) * rot_mat_notranslate).A[0],\n",
    "        (np.array([-image_w2, -image_h2]) * rot_mat_notranslate).A[0],\n",
    "        (np.array([ image_w2, -image_h2]) * rot_mat_notranslate).A[0]\n",
    "    ]\n",
    "\n",
    "    # Find the size of the new image\n",
    "    x_coords = [pt[0] for pt in rotated_coords]\n",
    "    x_pos = [x for x in x_coords if x > 0]\n",
    "    x_neg = [x for x in x_coords if x < 0]\n",
    "\n",
    "    y_coords = [pt[1] for pt in rotated_coords]\n",
    "    y_pos = [y for y in y_coords if y > 0]\n",
    "    y_neg = [y for y in y_coords if y < 0]\n",
    "\n",
    "    right_bound = max(x_pos)\n",
    "    left_bound = min(x_neg)\n",
    "    top_bound = max(y_pos)\n",
    "    bot_bound = min(y_neg)\n",
    "\n",
    "    new_w = int(abs(right_bound - left_bound))\n",
    "    new_h = int(abs(top_bound - bot_bound))\n",
    "\n",
    "    # We require a translation matrix to keep the image centred\n",
    "    trans_mat = np.matrix([\n",
    "        [1, 0, int(new_w * 0.5 - image_w2)],\n",
    "        [0, 1, int(new_h * 0.5 - image_h2)],\n",
    "        [0, 0, 1]\n",
    "    ])\n",
    "\n",
    "    # Compute the tranform for the combined rotation and translation\n",
    "    affine_mat = (np.matrix(trans_mat) * np.matrix(rot_mat))[0:2, :]\n",
    "\n",
    "    # Apply the transform\n",
    "    result = cv2.warpAffine(\n",
    "        image,\n",
    "        affine_mat,\n",
    "        (new_w, new_h),\n",
    "        flags=cv2.INTER_LINEAR\n",
    "    )\n",
    "\n",
    "    return result\n",
    "\n",
    "def largest_rotated_rect(w, h, angle):\n",
    "\n",
    "    quadrant = int(math.floor(angle / (math.pi / 2))) & 3\n",
    "    sign_alpha = angle if ((quadrant & 1) == 0) else math.pi - angle\n",
    "    alpha = (sign_alpha % math.pi + math.pi) % math.pi\n",
    "\n",
    "    bb_w = w * math.cos(alpha) + h * math.sin(alpha)\n",
    "    bb_h = w * math.sin(alpha) + h * math.cos(alpha)\n",
    "\n",
    "    gamma = math.atan2(bb_w, bb_w) if (w < h) else math.atan2(bb_w, bb_w)\n",
    "\n",
    "    delta = math.pi - alpha - gamma\n",
    "\n",
    "    length = h if (w < h) else w\n",
    "\n",
    "    d = length * math.cos(alpha)\n",
    "    a = d * math.sin(alpha) / math.sin(delta)\n",
    "\n",
    "    y = a * math.cos(gamma)\n",
    "    x = y * math.tan(gamma)\n",
    "\n",
    "    return (\n",
    "        bb_w - 2 * x,\n",
    "        bb_h - 2 * y\n",
    "    )\n",
    "\n",
    "def crop_around_center(image, width, height):\n",
    "\n",
    "    image_size = (image.shape[1], image.shape[0])\n",
    "    image_center = (int(image_size[0] * 0.5), int(image_size[1] * 0.5))\n",
    "\n",
    "    if(width > image_size[0]):\n",
    "        width = image_size[0]\n",
    "\n",
    "    if(height > image_size[1]):\n",
    "        height = image_size[1]\n",
    "\n",
    "    x1 = int(image_center[0] - width * 0.5)\n",
    "    x2 = int(image_center[0] + width * 0.5)\n",
    "    y1 = int(image_center[1] - height * 0.5)\n",
    "    y2 = int(image_center[1] + height * 0.5)\n",
    "\n",
    "    return image[y1:y2, x1:x2]\n",
    "\n",
    "def rotate_crop(image, angle, save_path, filename, resize=200):\n",
    "    image_height, image_width = image.shape[0:2]\n",
    "    image_rotated = rotate_image(image, angle)\n",
    "    image_rotated_cropped = crop_around_center(image_rotated, *largest_rotated_rect(image_width, image_height, math.radians(angle)))\n",
    "    \n",
    "    #center crop\n",
    "    height, width = image_rotated_cropped.shape[0:2]\n",
    "    cubic = min(height, width)\n",
    "    x = image_rotated_cropped.shape[1]/2 - cubic/2\n",
    "    y = image_rotated_cropped.shape[0]/2 - cubic/2\n",
    "    crop_img = image_rotated_cropped[int(y):int(y+cubic), int(x):int(x+cubic)]\n",
    "    \n",
    "    #크기변경을 위해 resize\n",
    "    resize_img = cv2.resize(crop_img, (resize, resize))\n",
    "    \n",
    "    imwrite('./'+save_path+'/'+filename[:-4]+'{}_deg.jpg'.format(angle), resize_img)"
   ]
  },
  {
   "cell_type": "code",
   "execution_count": 86,
   "id": "a50211e5-c996-4c67-9d1d-b33499b3f398",
   "metadata": {},
   "outputs": [
    {
     "name": "stdout",
     "output_type": "stream",
     "text": [
      "0 deg 작업 완료되었습니다.\n",
      "10 deg 작업 완료되었습니다.\n",
      "20 deg 작업 완료되었습니다.\n",
      "30 deg 작업 완료되었습니다.\n",
      "40 deg 작업 완료되었습니다.\n",
      "50 deg 작업 완료되었습니다.\n",
      "60 deg 작업 완료되었습니다.\n",
      "70 deg 작업 완료되었습니다.\n",
      "80 deg 작업 완료되었습니다.\n",
      "90 deg 작업 완료되었습니다.\n",
      "100 deg 작업 완료되었습니다.\n",
      "110 deg 작업 완료되었습니다.\n",
      "120 deg 작업 완료되었습니다.\n",
      "130 deg 작업 완료되었습니다.\n"
     ]
    },
    {
     "ename": "KeyboardInterrupt",
     "evalue": "",
     "output_type": "error",
     "traceback": [
      "\u001b[1;31m---------------------------------------------------------------------------\u001b[0m",
      "\u001b[1;31mKeyboardInterrupt\u001b[0m                         Traceback (most recent call last)",
      "\u001b[1;32m<ipython-input-86-df71c27c9136>\u001b[0m in \u001b[0;36m<module>\u001b[1;34m\u001b[0m\n\u001b[0;32m      3\u001b[0m     \u001b[1;32mfor\u001b[0m \u001b[0mang\u001b[0m \u001b[1;32min\u001b[0m \u001b[0mangle\u001b[0m\u001b[1;33m:\u001b[0m\u001b[1;33m\u001b[0m\u001b[1;33m\u001b[0m\u001b[0m\n\u001b[0;32m      4\u001b[0m         \u001b[1;32mfor\u001b[0m \u001b[0mfilename\u001b[0m \u001b[1;32min\u001b[0m \u001b[0mos\u001b[0m\u001b[1;33m.\u001b[0m\u001b[0mlistdir\u001b[0m\u001b[1;33m(\u001b[0m\u001b[0mfolder\u001b[0m\u001b[1;33m+\u001b[0m\u001b[1;34m'_ori/'\u001b[0m\u001b[1;33m)\u001b[0m\u001b[1;33m:\u001b[0m\u001b[1;33m\u001b[0m\u001b[1;33m\u001b[0m\u001b[0m\n\u001b[1;32m----> 5\u001b[1;33m             \u001b[0mimg\u001b[0m \u001b[1;33m=\u001b[0m \u001b[0mimread\u001b[0m\u001b[1;33m(\u001b[0m\u001b[1;34m'./'\u001b[0m\u001b[1;33m+\u001b[0m\u001b[0mfolder\u001b[0m\u001b[1;33m+\u001b[0m\u001b[1;34m'_ori/'\u001b[0m\u001b[1;33m+\u001b[0m \u001b[0mfilename\u001b[0m\u001b[1;33m)\u001b[0m\u001b[1;33m\u001b[0m\u001b[1;33m\u001b[0m\u001b[0m\n\u001b[0m\u001b[0;32m      6\u001b[0m             \u001b[0mrotate_crop\u001b[0m\u001b[1;33m(\u001b[0m\u001b[0mimg\u001b[0m\u001b[1;33m,\u001b[0m \u001b[0mang\u001b[0m\u001b[1;33m,\u001b[0m \u001b[0mfolder\u001b[0m\u001b[1;33m,\u001b[0m \u001b[0mfilename\u001b[0m\u001b[1;33m)\u001b[0m\u001b[1;33m\u001b[0m\u001b[1;33m\u001b[0m\u001b[0m\n\u001b[0;32m      7\u001b[0m         \u001b[0mprint\u001b[0m\u001b[1;33m(\u001b[0m\u001b[1;34mf'{ang} deg 작업 완료되었습니다.'\u001b[0m\u001b[1;33m)\u001b[0m\u001b[1;33m\u001b[0m\u001b[1;33m\u001b[0m\u001b[0m\n",
      "\u001b[1;32m<ipython-input-85-abcc5aee9607>\u001b[0m in \u001b[0;36mimread\u001b[1;34m(filename, flags, dtype)\u001b[0m\n\u001b[0;32m      2\u001b[0m     \u001b[1;32mtry\u001b[0m\u001b[1;33m:\u001b[0m\u001b[1;33m\u001b[0m\u001b[1;33m\u001b[0m\u001b[0m\n\u001b[0;32m      3\u001b[0m         \u001b[0mn\u001b[0m \u001b[1;33m=\u001b[0m \u001b[0mnp\u001b[0m\u001b[1;33m.\u001b[0m\u001b[0mfromfile\u001b[0m\u001b[1;33m(\u001b[0m\u001b[0mfilename\u001b[0m\u001b[1;33m,\u001b[0m \u001b[0mdtype\u001b[0m\u001b[1;33m)\u001b[0m\u001b[1;33m\u001b[0m\u001b[1;33m\u001b[0m\u001b[0m\n\u001b[1;32m----> 4\u001b[1;33m         \u001b[0mimg\u001b[0m \u001b[1;33m=\u001b[0m \u001b[0mcv2\u001b[0m\u001b[1;33m.\u001b[0m\u001b[0mimdecode\u001b[0m\u001b[1;33m(\u001b[0m\u001b[0mn\u001b[0m\u001b[1;33m,\u001b[0m \u001b[0mflags\u001b[0m\u001b[1;33m)\u001b[0m\u001b[1;33m\u001b[0m\u001b[1;33m\u001b[0m\u001b[0m\n\u001b[0m\u001b[0;32m      5\u001b[0m         \u001b[1;32mreturn\u001b[0m \u001b[0mimg\u001b[0m\u001b[1;33m\u001b[0m\u001b[1;33m\u001b[0m\u001b[0m\n\u001b[0;32m      6\u001b[0m     \u001b[1;32mexcept\u001b[0m \u001b[0mException\u001b[0m \u001b[1;32mas\u001b[0m \u001b[0me\u001b[0m\u001b[1;33m:\u001b[0m\u001b[1;33m\u001b[0m\u001b[1;33m\u001b[0m\u001b[0m\n",
      "\u001b[1;31mKeyboardInterrupt\u001b[0m: "
     ]
    }
   ],
   "source": [
    "angle = [i for i in range(0,180,10)]\n",
    "for folder in ['train', 'valid', 'test']:\n",
    "    for ang in angle:\n",
    "        for filename in os.listdir(folder+'_ori/'):\n",
    "            img = imread('./'+folder+'_ori/'+ filename)\n",
    "            rotate_crop(img, ang, folder, filename)\n",
    "        print(f'{ang} deg 작업 완료되었습니다.')"
   ]
  },
  {
   "cell_type": "code",
   "execution_count": null,
   "id": "15bfbb35-3ddc-4a91-8678-40b438f68a8b",
   "metadata": {},
   "outputs": [],
   "source": [
    "for i in ['train', 'valid', 'test']: print(f'{i} 이미지 개수 : {len(os.listdir(i))}')"
   ]
  },
  {
   "cell_type": "code",
   "execution_count": 89,
   "id": "40c6b8e1-3bf1-4f79-b4ce-be455600f34b",
   "metadata": {},
   "outputs": [
    {
     "data": {
      "text/plain": [
       "'3_오스테리아57_0007'"
      ]
     },
     "execution_count": 89,
     "metadata": {},
     "output_type": "execute_result"
    }
   ],
   "source": [
    "filename[:-4]"
   ]
  }
 ],
 "metadata": {
  "kernelspec": {
   "display_name": "Python 3",
   "language": "python",
   "name": "python3"
  },
  "language_info": {
   "codemirror_mode": {
    "name": "ipython",
    "version": 3
   },
   "file_extension": ".py",
   "mimetype": "text/x-python",
   "name": "python",
   "nbconvert_exporter": "python",
   "pygments_lexer": "ipython3",
   "version": "3.6.13"
  }
 },
 "nbformat": 4,
 "nbformat_minor": 5
}
