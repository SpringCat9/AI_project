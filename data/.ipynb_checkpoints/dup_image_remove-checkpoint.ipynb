{
 "cells": [
  {
   "cell_type": "markdown",
   "id": "9400df51-629b-4590-9011-76c5a43c9b98",
   "metadata": {},
   "source": [
    "파일 크기로 중복을 추정.\n",
    "이미지 비교는 코드가 복잡해서 구현 안함."
   ]
  },
  {
   "cell_type": "code",
   "execution_count": 1,
   "id": "653535f7-445e-4610-8387-7d97dddbea69",
   "metadata": {},
   "outputs": [],
   "source": [
    "import os\n",
    "import pandas as pd"
   ]
  },
  {
   "cell_type": "code",
   "execution_count": 2,
   "id": "9e4f6ebf-1a37-4840-ae99-f4fe89106443",
   "metadata": {},
   "outputs": [
    {
     "data": {
      "text/plain": [
       "['01_nakseong',\n",
       " '02_scuba',\n",
       " '03_osteria',\n",
       " '04_hou_skewer',\n",
       " '05_gravy',\n",
       " '06_jungga',\n",
       " '07_edong_gan',\n",
       " '08_hwanyeo',\n",
       " '09_badarang',\n",
       " '10_sushi_mura',\n",
       " '11_ugo',\n",
       " '12_kingsjokbal']"
      ]
     },
     "execution_count": 2,
     "metadata": {},
     "output_type": "execute_result"
    }
   ],
   "source": [
    "classes = sorted([i for i in os.listdir('./original_pictures') if i[0] is not '.' if os.path.isdir('./original_pictures/'+i)])\n",
    "classes"
   ]
  },
  {
   "cell_type": "code",
   "execution_count": 3,
   "id": "2f68704f-6b36-45a0-b70d-e4a21082ef37",
   "metadata": {},
   "outputs": [],
   "source": [
    "#동일한 크기를 갖는 파일 목록\n",
    "dup_photo = pd.DataFrame(columns=['filename', 'size'])\n",
    "for i in classes:\n",
    "    photo_list = os.listdir('./original_pictures/'+i)\n",
    "    photo_size = [os.path.getsize('./original_pictures/'+i+'/'+x) for x in photo_list]\n",
    "    photo = pd.DataFrame({'filename':photo_list, 'size':photo_size})\n",
    "    if len(photo) != len(set(photo_size)):#중복된 사이즈가 있을때\n",
    "        temp = pd.DataFrame(photo['size'].value_counts()>1)\n",
    "        dup_size = list(temp[temp['size']==True].index)\n",
    "        for j in range(len(dup_size)):\n",
    "            dup_photo = pd.concat([dup_photo, photo[photo['size']==dup_size[j]]])\n",
    "dup_photo.reset_index(drop=True, inplace=True)\n",
    "dup_photo['path'] = './original_pictures/'+dup_photo.filename.str.split('_').str[0]+'_'+dup_photo.filename.str.split('_').str[1]+'/'"
   ]
  },
  {
   "cell_type": "code",
   "execution_count": 4,
   "id": "5ced3750-bf4b-4c32-ba90-f286219c6c27",
   "metadata": {},
   "outputs": [
    {
     "data": {
      "text/html": [
       "<div>\n",
       "<style scoped>\n",
       "    .dataframe tbody tr th:only-of-type {\n",
       "        vertical-align: middle;\n",
       "    }\n",
       "\n",
       "    .dataframe tbody tr th {\n",
       "        vertical-align: top;\n",
       "    }\n",
       "\n",
       "    .dataframe thead th {\n",
       "        text-align: right;\n",
       "    }\n",
       "</style>\n",
       "<table border=\"1\" class=\"dataframe\">\n",
       "  <thead>\n",
       "    <tr style=\"text-align: right;\">\n",
       "      <th></th>\n",
       "      <th>filename</th>\n",
       "      <th>size</th>\n",
       "      <th>path</th>\n",
       "    </tr>\n",
       "  </thead>\n",
       "  <tbody>\n",
       "    <tr>\n",
       "      <th>0</th>\n",
       "      <td>01_nakseong_0141.jpg</td>\n",
       "      <td>134532</td>\n",
       "      <td>./original_pictures/01_nakseong/</td>\n",
       "    </tr>\n",
       "    <tr>\n",
       "      <th>1</th>\n",
       "      <td>01_nakseong_0320.jpg</td>\n",
       "      <td>134532</td>\n",
       "      <td>./original_pictures/01_nakseong/</td>\n",
       "    </tr>\n",
       "    <tr>\n",
       "      <th>2</th>\n",
       "      <td>02_scuba_0146.jpg</td>\n",
       "      <td>307042</td>\n",
       "      <td>./original_pictures/02_scuba/</td>\n",
       "    </tr>\n",
       "    <tr>\n",
       "      <th>3</th>\n",
       "      <td>02_scuba_0167.jpg</td>\n",
       "      <td>307042</td>\n",
       "      <td>./original_pictures/02_scuba/</td>\n",
       "    </tr>\n",
       "    <tr>\n",
       "      <th>4</th>\n",
       "      <td>02_scuba_0217.jpg</td>\n",
       "      <td>132803</td>\n",
       "      <td>./original_pictures/02_scuba/</td>\n",
       "    </tr>\n",
       "    <tr>\n",
       "      <th>...</th>\n",
       "      <td>...</td>\n",
       "      <td>...</td>\n",
       "      <td>...</td>\n",
       "    </tr>\n",
       "    <tr>\n",
       "      <th>164</th>\n",
       "      <td>11_ugo_0400.jpg</td>\n",
       "      <td>44827</td>\n",
       "      <td>./original_pictures/11_ugo/</td>\n",
       "    </tr>\n",
       "    <tr>\n",
       "      <th>165</th>\n",
       "      <td>12_kingsjokbal_0005.jpg</td>\n",
       "      <td>123653</td>\n",
       "      <td>./original_pictures/12_kingsjokbal/</td>\n",
       "    </tr>\n",
       "    <tr>\n",
       "      <th>166</th>\n",
       "      <td>12_kingsjokbal_0030.jpg</td>\n",
       "      <td>123653</td>\n",
       "      <td>./original_pictures/12_kingsjokbal/</td>\n",
       "    </tr>\n",
       "    <tr>\n",
       "      <th>167</th>\n",
       "      <td>12_kingsjokbal_0064.jpg</td>\n",
       "      <td>141798</td>\n",
       "      <td>./original_pictures/12_kingsjokbal/</td>\n",
       "    </tr>\n",
       "    <tr>\n",
       "      <th>168</th>\n",
       "      <td>12_kingsjokbal_0115.jpg</td>\n",
       "      <td>141798</td>\n",
       "      <td>./original_pictures/12_kingsjokbal/</td>\n",
       "    </tr>\n",
       "  </tbody>\n",
       "</table>\n",
       "<p>169 rows × 3 columns</p>\n",
       "</div>"
      ],
      "text/plain": [
       "                    filename    size                                 path\n",
       "0       01_nakseong_0141.jpg  134532     ./original_pictures/01_nakseong/\n",
       "1       01_nakseong_0320.jpg  134532     ./original_pictures/01_nakseong/\n",
       "2          02_scuba_0146.jpg  307042        ./original_pictures/02_scuba/\n",
       "3          02_scuba_0167.jpg  307042        ./original_pictures/02_scuba/\n",
       "4          02_scuba_0217.jpg  132803        ./original_pictures/02_scuba/\n",
       "..                       ...     ...                                  ...\n",
       "164          11_ugo_0400.jpg   44827          ./original_pictures/11_ugo/\n",
       "165  12_kingsjokbal_0005.jpg  123653  ./original_pictures/12_kingsjokbal/\n",
       "166  12_kingsjokbal_0030.jpg  123653  ./original_pictures/12_kingsjokbal/\n",
       "167  12_kingsjokbal_0064.jpg  141798  ./original_pictures/12_kingsjokbal/\n",
       "168  12_kingsjokbal_0115.jpg  141798  ./original_pictures/12_kingsjokbal/\n",
       "\n",
       "[169 rows x 3 columns]"
      ]
     },
     "execution_count": 4,
     "metadata": {},
     "output_type": "execute_result"
    }
   ],
   "source": [
    "dup_photo"
   ]
  },
  {
   "cell_type": "code",
   "execution_count": 5,
   "id": "d9670b4a-7936-407a-a4d5-4f172df77de9",
   "metadata": {},
   "outputs": [
    {
     "data": {
      "text/html": [
       "<div>\n",
       "<style scoped>\n",
       "    .dataframe tbody tr th:only-of-type {\n",
       "        vertical-align: middle;\n",
       "    }\n",
       "\n",
       "    .dataframe tbody tr th {\n",
       "        vertical-align: top;\n",
       "    }\n",
       "\n",
       "    .dataframe thead th {\n",
       "        text-align: right;\n",
       "    }\n",
       "</style>\n",
       "<table border=\"1\" class=\"dataframe\">\n",
       "  <thead>\n",
       "    <tr style=\"text-align: right;\">\n",
       "      <th></th>\n",
       "      <th>size</th>\n",
       "      <th>path</th>\n",
       "    </tr>\n",
       "  </thead>\n",
       "  <tbody>\n",
       "    <tr>\n",
       "      <th>0</th>\n",
       "      <td>134532</td>\n",
       "      <td>./original_pictures/01_nakseong/</td>\n",
       "    </tr>\n",
       "    <tr>\n",
       "      <th>1</th>\n",
       "      <td>307042</td>\n",
       "      <td>./original_pictures/02_scuba/</td>\n",
       "    </tr>\n",
       "    <tr>\n",
       "      <th>2</th>\n",
       "      <td>132803</td>\n",
       "      <td>./original_pictures/02_scuba/</td>\n",
       "    </tr>\n",
       "    <tr>\n",
       "      <th>3</th>\n",
       "      <td>124489</td>\n",
       "      <td>./original_pictures/02_scuba/</td>\n",
       "    </tr>\n",
       "    <tr>\n",
       "      <th>4</th>\n",
       "      <td>102436</td>\n",
       "      <td>./original_pictures/02_scuba/</td>\n",
       "    </tr>\n",
       "  </tbody>\n",
       "</table>\n",
       "</div>"
      ],
      "text/plain": [
       "     size                              path\n",
       "0  134532  ./original_pictures/01_nakseong/\n",
       "1  307042     ./original_pictures/02_scuba/\n",
       "2  132803     ./original_pictures/02_scuba/\n",
       "3  124489     ./original_pictures/02_scuba/\n",
       "4  102436     ./original_pictures/02_scuba/"
      ]
     },
     "execution_count": 5,
     "metadata": {},
     "output_type": "execute_result"
    }
   ],
   "source": [
    "uniq = dup_photo[['size', 'path']].drop_duplicates().reset_index(drop=True)\n",
    "uniq.head()"
   ]
  },
  {
   "cell_type": "code",
   "execution_count": 6,
   "id": "566f1130-435b-408b-bf7c-df27112485e5",
   "metadata": {},
   "outputs": [],
   "source": [
    "import cv2\n",
    "from skimage.measure import compare_ssim"
   ]
  },
  {
   "cell_type": "code",
   "execution_count": 7,
   "id": "b2c83232-922d-4494-aa34-2483dfe47065",
   "metadata": {},
   "outputs": [
    {
     "data": {
      "text/html": [
       "<div>\n",
       "<style scoped>\n",
       "    .dataframe tbody tr th:only-of-type {\n",
       "        vertical-align: middle;\n",
       "    }\n",
       "\n",
       "    .dataframe tbody tr th {\n",
       "        vertical-align: top;\n",
       "    }\n",
       "\n",
       "    .dataframe thead th {\n",
       "        text-align: right;\n",
       "    }\n",
       "</style>\n",
       "<table border=\"1\" class=\"dataframe\">\n",
       "  <thead>\n",
       "    <tr style=\"text-align: right;\">\n",
       "      <th></th>\n",
       "      <th>filename</th>\n",
       "      <th>size</th>\n",
       "      <th>path</th>\n",
       "    </tr>\n",
       "  </thead>\n",
       "  <tbody>\n",
       "    <tr>\n",
       "      <th>0</th>\n",
       "      <td>01_nakseong_0141.jpg</td>\n",
       "      <td>134532</td>\n",
       "      <td>./original_pictures/01_nakseong/</td>\n",
       "    </tr>\n",
       "    <tr>\n",
       "      <th>1</th>\n",
       "      <td>01_nakseong_0320.jpg</td>\n",
       "      <td>134532</td>\n",
       "      <td>./original_pictures/01_nakseong/</td>\n",
       "    </tr>\n",
       "  </tbody>\n",
       "</table>\n",
       "</div>"
      ],
      "text/plain": [
       "               filename    size                              path\n",
       "0  01_nakseong_0141.jpg  134532  ./original_pictures/01_nakseong/\n",
       "1  01_nakseong_0320.jpg  134532  ./original_pictures/01_nakseong/"
      ]
     },
     "execution_count": 7,
     "metadata": {},
     "output_type": "execute_result"
    }
   ],
   "source": [
    "temp = dup_photo[(dup_photo['size']==uniq['size'][0]) & (dup_photo['path']==uniq['path'][0])]\n",
    "temp"
   ]
  },
  {
   "cell_type": "code",
   "execution_count": 8,
   "id": "886fcfae-370a-4a47-b9cf-28d4bed57129",
   "metadata": {},
   "outputs": [],
   "source": [
    "img = cv2.imread(temp['path'][0]+temp['filename'][0])"
   ]
  },
  {
   "cell_type": "code",
   "execution_count": 9,
   "id": "e8820472-9f54-438f-a3bc-b5728f924b9b",
   "metadata": {},
   "outputs": [],
   "source": [
    "cv2.imshow(img)"
   ]
  },
  {
   "cell_type": "code",
   "execution_count": null,
   "id": "c7a31f02-bf6d-4853-ae0f-b9e88f8ade5f",
   "metadata": {},
   "outputs": [],
   "source": []
  }
 ],
 "metadata": {
  "kernelspec": {
   "display_name": "TF21",
   "language": "python",
   "name": "tf21"
  },
  "language_info": {
   "codemirror_mode": {
    "name": "ipython",
    "version": 3
   },
   "file_extension": ".py",
   "mimetype": "text/x-python",
   "name": "python",
   "nbconvert_exporter": "python",
   "pygments_lexer": "ipython3",
   "version": "3.6.13"
  }
 },
 "nbformat": 4,
 "nbformat_minor": 5
}
