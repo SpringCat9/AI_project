{
 "cells": [
  {
   "cell_type": "code",
   "execution_count": 63,
   "id": "c41fdb36-9fd0-473b-8fb3-d73eba2978c9",
   "metadata": {},
   "outputs": [],
   "source": [
    "import math\n",
    "import cv2\n",
    "import numpy as np\n",
    "import os\n",
    "import shutil"
   ]
  },
  {
   "cell_type": "code",
   "execution_count": 64,
   "id": "3286de42-4a10-4f2a-95b6-d0772f49894a",
   "metadata": {},
   "outputs": [
    {
     "data": {
      "text/plain": [
       "['1_낙성대곱창', '2_스쿠버의집', '3_오스테리아57']"
      ]
     },
     "execution_count": 64,
     "metadata": {},
     "output_type": "execute_result"
    }
   ],
   "source": [
    "#각자 data 폴더 path 지정\n",
    "data_path = 'c:/PythonWorkspace/AI전문가과정/data/'\n",
    "os.listdir(data_path)\n",
    "\n",
    "#data path에 train, valid, test 폴더 생성\n",
    "for _ in ['train', 'valid', 'test']:\n",
    "    if _ not in os.listdir(data_path): os.mkdir(data_path+_)\n",
    "    \n",
    "classes = [i for i in os.listdir('original_pictures')]\n",
    "classes"
   ]
  },
  {
   "cell_type": "code",
   "execution_count": 66,
   "id": "a98a47b0-f709-4021-afba-c7392cb4e385",
   "metadata": {},
   "outputs": [],
   "source": [
    "#이름 변경(class_이름_사진번호)\n",
    "for store in classes:\n",
    "    for i, file in enumerate(os.listdir('./original_pictures/'+store)):\n",
    "        os.rename('./original_pictures/'+store+'/'+file, './original_pictures/'+store+'/'+store+'_{0:04d}.jpg'.format(i+1))"
   ]
  },
  {
   "cell_type": "code",
   "execution_count": 67,
   "id": "801c0309-3b29-43e5-a17f-15d7f08e374f",
   "metadata": {},
   "outputs": [
    {
     "data": {
      "text/plain": [
       "'c:/PythonWorkspace/AI전문가과정/data/original_pictures'"
      ]
     },
     "execution_count": 67,
     "metadata": {},
     "output_type": "execute_result"
    }
   ],
   "source": [
    "#Original data를 data path로 copy\n",
    "shutil.copytree(\"./original_pictures\", data_path+'original_pictures')"
   ]
  },
  {
   "cell_type": "code",
   "execution_count": 68,
   "id": "54e57df3-6ec9-4a02-9de4-625c8e1eeacb",
   "metadata": {},
   "outputs": [],
   "source": [
    "def imread(filename, flags=cv2.IMREAD_COLOR, dtype=np.uint8):\n",
    "    try:\n",
    "        n = np.fromfile(filename, dtype)\n",
    "        img = cv2.imdecode(n, flags)\n",
    "        return img\n",
    "    except Exception as e:\n",
    "        print(e)\n",
    "        return None\n",
    "    \n",
    "def imwrite(filename, img, params=None):\n",
    "    try:\n",
    "        ext = os.path.splitext(filename)[1]\n",
    "        result, n = cv2.imencode(ext, img, params)\n",
    "\n",
    "        if result:\n",
    "            with open(filename, mode='w+b') as f:\n",
    "                n.tofile(f)\n",
    "            return True\n",
    "        else:\n",
    "            return False\n",
    "    except Exception as e:\n",
    "        print(e)\n",
    "        return False\n",
    "    \n",
    "def rotate_image(image, angle):\n",
    "\n",
    "    # Get the image size\n",
    "    # No that's not an error - NumPy stores image matricies backwards\n",
    "    image_size = (image.shape[1], image.shape[0])\n",
    "    image_center = tuple(np.array(image_size) / 2)\n",
    "\n",
    "    # Convert the OpenCV 3x2 rotation matrix to 3x3\n",
    "    rot_mat = np.vstack(\n",
    "        [cv2.getRotationMatrix2D(image_center, angle, 1.0), [0, 0, 1]]\n",
    "    )\n",
    "\n",
    "    rot_mat_notranslate = np.matrix(rot_mat[0:2, 0:2])\n",
    "\n",
    "    # Shorthand for below calcs\n",
    "    image_w2 = image_size[0] * 0.5\n",
    "    image_h2 = image_size[1] * 0.5\n",
    "\n",
    "    # Obtain the rotated coordinates of the image corners\n",
    "    rotated_coords = [\n",
    "        (np.array([-image_w2,  image_h2]) * rot_mat_notranslate).A[0],\n",
    "        (np.array([ image_w2,  image_h2]) * rot_mat_notranslate).A[0],\n",
    "        (np.array([-image_w2, -image_h2]) * rot_mat_notranslate).A[0],\n",
    "        (np.array([ image_w2, -image_h2]) * rot_mat_notranslate).A[0]\n",
    "    ]\n",
    "\n",
    "    # Find the size of the new image\n",
    "    x_coords = [pt[0] for pt in rotated_coords]\n",
    "    x_pos = [x for x in x_coords if x > 0]\n",
    "    x_neg = [x for x in x_coords if x < 0]\n",
    "\n",
    "    y_coords = [pt[1] for pt in rotated_coords]\n",
    "    y_pos = [y for y in y_coords if y > 0]\n",
    "    y_neg = [y for y in y_coords if y < 0]\n",
    "\n",
    "    right_bound = max(x_pos)\n",
    "    left_bound = min(x_neg)\n",
    "    top_bound = max(y_pos)\n",
    "    bot_bound = min(y_neg)\n",
    "\n",
    "    new_w = int(abs(right_bound - left_bound))\n",
    "    new_h = int(abs(top_bound - bot_bound))\n",
    "\n",
    "    # We require a translation matrix to keep the image centred\n",
    "    trans_mat = np.matrix([\n",
    "        [1, 0, int(new_w * 0.5 - image_w2)],\n",
    "        [0, 1, int(new_h * 0.5 - image_h2)],\n",
    "        [0, 0, 1]\n",
    "    ])\n",
    "\n",
    "    # Compute the tranform for the combined rotation and translation\n",
    "    affine_mat = (np.matrix(trans_mat) * np.matrix(rot_mat))[0:2, :]\n",
    "\n",
    "    # Apply the transform\n",
    "    result = cv2.warpAffine(\n",
    "        image,\n",
    "        affine_mat,\n",
    "        (new_w, new_h),\n",
    "        flags=cv2.INTER_LINEAR\n",
    "    )\n",
    "\n",
    "    return result\n",
    "\n",
    "def largest_rotated_rect(w, h, angle):\n",
    "\n",
    "    quadrant = int(math.floor(angle / (math.pi / 2))) & 3\n",
    "    sign_alpha = angle if ((quadrant & 1) == 0) else math.pi - angle\n",
    "    alpha = (sign_alpha % math.pi + math.pi) % math.pi\n",
    "\n",
    "    bb_w = w * math.cos(alpha) + h * math.sin(alpha)\n",
    "    bb_h = w * math.sin(alpha) + h * math.cos(alpha)\n",
    "\n",
    "    gamma = math.atan2(bb_w, bb_w) if (w < h) else math.atan2(bb_w, bb_w)\n",
    "\n",
    "    delta = math.pi - alpha - gamma\n",
    "\n",
    "    length = h if (w < h) else w\n",
    "\n",
    "    d = length * math.cos(alpha)\n",
    "    a = d * math.sin(alpha) / math.sin(delta)\n",
    "\n",
    "    y = a * math.cos(gamma)\n",
    "    x = y * math.tan(gamma)\n",
    "\n",
    "    return (\n",
    "        bb_w - 2 * x,\n",
    "        bb_h - 2 * y\n",
    "    )\n",
    "\n",
    "def crop_around_center(image, width, height):\n",
    "\n",
    "    image_size = (image.shape[1], image.shape[0])\n",
    "    image_center = (int(image_size[0] * 0.5), int(image_size[1] * 0.5))\n",
    "\n",
    "    if(width > image_size[0]):\n",
    "        width = image_size[0]\n",
    "\n",
    "    if(height > image_size[1]):\n",
    "        height = image_size[1]\n",
    "\n",
    "    x1 = int(image_center[0] - width * 0.5)\n",
    "    x2 = int(image_center[0] + width * 0.5)\n",
    "    y1 = int(image_center[1] - height * 0.5)\n",
    "    y2 = int(image_center[1] + height * 0.5)\n",
    "\n",
    "    return image[y1:y2, x1:x2]\n",
    "\n",
    "def rotate_crop(image, angle, save_path, filename, resize=200):\n",
    "    image_height, image_width = image.shape[0:2]\n",
    "    image_rotated = rotate_image(image, angle)\n",
    "    image_rotated_cropped = crop_around_center(image_rotated, *largest_rotated_rect(image_width, image_height, math.radians(angle)))\n",
    "    \n",
    "    #center crop\n",
    "    height, width = image_rotated_cropped.shape[0:2]\n",
    "    cubic = min(height, width)\n",
    "    x = image_rotated_cropped.shape[1]/2 - cubic/2\n",
    "    y = image_rotated_cropped.shape[0]/2 - cubic/2\n",
    "    crop_img = image_rotated_cropped[int(y):int(y+cubic), int(x):int(x+cubic)]\n",
    "    \n",
    "    #크기변경을 위해 resize\n",
    "    resize_img = cv2.resize(crop_img, (resize, resize))\n",
    "    \n",
    "    imwrite(save_path+'/'+filename[:-4]+'{}_deg.jpg'.format(angle), resize_img)"
   ]
  },
  {
   "cell_type": "code",
   "execution_count": 69,
   "id": "a50211e5-c996-4c67-9d1d-b33499b3f398",
   "metadata": {},
   "outputs": [
    {
     "name": "stdout",
     "output_type": "stream",
     "text": [
      "3_오스테리아57 test 60/60 rotate_crop 완료되었습니다.             \r"
     ]
    }
   ],
   "source": [
    "#angle 은 -80도부터 10도간격으로 80도까지\n",
    "angle = [i for i in range(-80,90,10)]\n",
    "\n",
    "# 300개의 사진만 사용하여 60% train, 20% valid, 20% test로 나눔\n",
    "for store in classes:\n",
    "    for file in os.listdir(data_path+'original_pictures/'+store)[:180]:\n",
    "        for ang in angle:\n",
    "            img = imread(data_path+'original_pictures/'+store+'/'+file)\n",
    "            rotate_crop(img, ang, data_path+'train',file)\n",
    "        print('{} train {}/180 rotate_crop 완료되었습니다.          '.format(store, int(file[-8:-4])), end='\\r')\n",
    "\n",
    "    for file in os.listdir(data_path+'original_pictures/'+store)[180:240]:\n",
    "        for ang in angle:\n",
    "            img = imread(data_path+'original_pictures/'+store+'/'+file)\n",
    "            rotate_crop(img, ang, data_path+'valid',file)\n",
    "        print('{} valid {}/60 rotate_crop 완료되었습니다.          '.format(store, int(file[-8:-4])-180), end='\\r')\n",
    "    \n",
    "    for file in os.listdir(data_path+'original_pictures/'+store)[240:300]:\n",
    "        for ang in angle:\n",
    "            img = imread(data_path+'original_pictures/'+store+'/'+file)\n",
    "            rotate_crop(img, ang, data_path+'test',file)\n",
    "        print('{} test {}/60 rotate_crop 완료되었습니다.          '.format(store, int(file[-8:-4])-240), end='\\r')"
   ]
  },
  {
   "cell_type": "code",
   "execution_count": 70,
   "id": "15bfbb35-3ddc-4a91-8678-40b438f68a8b",
   "metadata": {},
   "outputs": [
    {
     "name": "stdout",
     "output_type": "stream",
     "text": [
      "train 이미지 개수 : 9180\n",
      "valid 이미지 개수 : 3060\n",
      "test 이미지 개수 : 3060\n"
     ]
    }
   ],
   "source": [
    "for i in ['train', 'valid', 'test']: print(f'{i} 이미지 개수 : {len(os.listdir(data_path+i))}')"
   ]
  },
  {
   "cell_type": "code",
   "execution_count": null,
   "id": "9171f671-b0c0-4371-8ec6-6fe90726fa28",
   "metadata": {},
   "outputs": [],
   "source": []
  }
 ],
 "metadata": {
  "kernelspec": {
   "display_name": "Python 3",
   "language": "python",
   "name": "python3"
  },
  "language_info": {
   "codemirror_mode": {
    "name": "ipython",
    "version": 3
   },
   "file_extension": ".py",
   "mimetype": "text/x-python",
   "name": "python",
   "nbconvert_exporter": "python",
   "pygments_lexer": "ipython3",
   "version": "3.6.13"
  }
 },
 "nbformat": 4,
 "nbformat_minor": 5
}
