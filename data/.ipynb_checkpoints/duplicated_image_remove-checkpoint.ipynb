{
 "cells": [
  {
   "cell_type": "code",
   "execution_count": 1,
   "id": "653535f7-445e-4610-8387-7d97dddbea69",
   "metadata": {},
   "outputs": [],
   "source": [
    "import os\n",
    "import pandas as pd\n",
    "import cv2\n",
    "# from skimage.measure import compare_ssim\n",
    "from skimage.metrics import structural_similarity\n",
    "from matplotlib import pyplot as plt"
   ]
  },
  {
   "cell_type": "code",
   "execution_count": 7,
   "id": "9e4f6ebf-1a37-4840-ae99-f4fe89106443",
   "metadata": {},
   "outputs": [
    {
     "name": "stderr",
     "output_type": "stream",
     "text": [
      "<>:1: SyntaxWarning: \"is not\" with a literal. Did you mean \"!=\"?\n",
      "<>:1: SyntaxWarning: \"is not\" with a literal. Did you mean \"!=\"?\n",
      "<ipython-input-7-05a6e4c77933>:1: SyntaxWarning: \"is not\" with a literal. Did you mean \"!=\"?\n",
      "  classes = sorted([i for i in os.listdir('./original_pictures') if i[0] is not '.' if os.path.isdir('./original_pictures/'+i)])\n"
     ]
    },
    {
     "data": {
      "text/plain": [
       "['01_nakseong',\n",
       " '02_scuba',\n",
       " '03_osteria',\n",
       " '04_houskewer',\n",
       " '05_gravy',\n",
       " '06_jungga',\n",
       " '07_edonggan',\n",
       " '08_hwanyeo',\n",
       " '09_badarang',\n",
       " '10_sushimura',\n",
       " '11_ugo',\n",
       " '12_kingsjokbal',\n",
       " '13_kajung',\n",
       " '14_phbanlim',\n",
       " '15_pyeongnam',\n",
       " '16_tomatilo',\n",
       " '17_jobangnakji',\n",
       " '18_samohbokjib',\n",
       " '19_marado',\n",
       " 'unseen']"
      ]
     },
     "execution_count": 7,
     "metadata": {},
     "output_type": "execute_result"
    }
   ],
   "source": [
    "classes = sorted([i for i in os.listdir('./original_pictures') if i[0] is not '.' if os.path.isdir('./original_pictures/'+i)])\n",
    "classes"
   ]
  },
  {
   "cell_type": "code",
   "execution_count": 4,
   "id": "f8836ca8-9e1e-4c77-879a-dac1777f98f8",
   "metadata": {},
   "outputs": [],
   "source": [
    "# 안나올때까지 돌려야됨\n",
    "# 동일한 크기를 갖는 파일 목록\n",
    "dup_photo = pd.DataFrame(columns=['filename', 'size'])\n",
    "for i in classes:\n",
    "    photo_list = os.listdir('./original_pictures/'+i)\n",
    "    photo_size = [os.path.getsize('./original_pictures/'+i+'/'+x) for x in photo_list]\n",
    "    photo = pd.DataFrame({'filename':photo_list, 'size':photo_size})\n",
    "    if len(photo) != len(set(photo_size)):#중복된 사이즈가 있을때\n",
    "        temp = pd.DataFrame(photo['size'].value_counts()>1)\n",
    "        dup_size = list(temp[temp['size']==True].index)\n",
    "        for j in range(len(dup_size)):\n",
    "            dup_photo = pd.concat([dup_photo, photo[photo['size']==dup_size[j]]])\n",
    "dup_photo.reset_index(drop=True, inplace=True)\n",
    "dup_photo['path'] = './original_pictures/'+dup_photo.filename.str.split('_').str[0]+'_'+dup_photo.filename.str.split('_').str[1]+'/'\n",
    "\n",
    "uniq = dup_photo[['size', 'path']].drop_duplicates().reset_index(drop=True)\n",
    "uniq.head()\n",
    "\n",
    "#중복제거\n",
    "for i in range(len(uniq)):\n",
    "    temp = dup_photo[(dup_photo['size']==uniq['size'][i]) & (dup_photo['path']==uniq['path'][i])].reset_index(drop=True)\n",
    "    img0 = cv2.imread(temp['path'][0]+temp['filename'][0])\n",
    "    img0 = cv2.cvtColor(img0, cv2.COLOR_BGR2RGB)\n",
    "    img_gray0 = cv2.cvtColor(img0, cv2.COLOR_RGB2GRAY)\n",
    "    img1 = cv2.imread(temp['path'][1]+temp['filename'][1])\n",
    "    img1 = cv2.cvtColor(img1, cv2.COLOR_BGR2RGB)\n",
    "    img_gray1 = cv2.cvtColor(img1, cv2.COLOR_RGB2GRAY)\n",
    "    if img_gray0.shape == img_gray1.shape:\n",
    "        score, diff = structural_similarity(img_gray0, img_gray1, full=True)\n",
    "        if score > 0.99:\n",
    "            fig = plt.figure()\n",
    "            rows, cols = 1, 2\n",
    "            \n",
    "            ax1 = fig.add_subplot(rows,cols,1)\n",
    "            ax1.imshow(img0)\n",
    "            ax1.set_title(temp['filename'][0])\n",
    "            ax1.axis('off')\n",
    "            \n",
    "            ax2=fig.add_subplot(rows,cols,2)\n",
    "            ax2.imshow(img1)\n",
    "            ax2.set_title(temp['filename'][1])\n",
    "            ax2.axis('off')\n",
    "            \n",
    "            plt.show()\n",
    "            print('사진이 중복되어, 오른쪽 그림을 삭제합니다.')\n",
    "            os.remove(temp['path'][1]+temp['filename'][1])"
   ]
  },
  {
   "cell_type": "code",
   "execution_count": 8,
   "id": "ec849002-f313-4f2b-9139-369664328f4b",
   "metadata": {},
   "outputs": [],
   "source": [
    "#이름 변경(class_이름_사진번호)\n",
    "for store in classes:\n",
    "    for i, file in enumerate(os.listdir('./original_pictures/'+store)):\n",
    "        os.rename('./original_pictures/'+store+'/'+file, './original_pictures/'+store+'/'+store+'_{0:05d}.jpg'.format(i+1))\n",
    "    for i, file in enumerate(os.listdir('./original_pictures/'+store)):\n",
    "        os.rename('./original_pictures/'+store+'/'+file, './original_pictures/'+store+'/'+store+'_{0:04d}.jpg'.format(i+1))"
   ]
  },
  {
   "cell_type": "code",
   "execution_count": 9,
   "id": "185fa49a-2e88-433b-840d-39301ea85506",
   "metadata": {},
   "outputs": [
    {
     "name": "stdout",
     "output_type": "stream",
     "text": [
      "Class별 사진 수\n",
      "01_nakseong : 360\n",
      "02_scuba : 310\n",
      "03_osteria : 337\n",
      "04_houskewer : 332\n",
      "05_gravy : 310\n",
      "06_jungga : 331\n",
      "07_edonggan : 336\n",
      "08_hwanyeo : 352\n",
      "09_badarang : 333\n",
      "10_sushimura : 393\n",
      "11_ugo : 420\n",
      "12_kingsjokbal : 319\n",
      "13_kajung : 344\n",
      "14_phbanlim : 162\n",
      "15_pyeongnam : 396\n",
      "16_tomatilo : 483\n",
      "17_jobangnakji : 413\n",
      "18_samohbokjib : 382\n",
      "19_marado : 594\n",
      "unseen : 318\n"
     ]
    }
   ],
   "source": [
    "#class별 사진 수\n",
    "print('Class별 사진 수')\n",
    "for i in classes: \n",
    "    print(f'{i} : {len(os.listdir(\"./original_pictures/\"+i))}')"
   ]
  },
  {
   "cell_type": "code",
   "execution_count": null,
   "id": "fee8d010-6a5e-4fda-bf34-84f736027f21",
   "metadata": {},
   "outputs": [],
   "source": []
  }
 ],
 "metadata": {
  "kernelspec": {
   "display_name": "Python 3",
   "language": "python",
   "name": "python3"
  },
  "language_info": {
   "codemirror_mode": {
    "name": "ipython",
    "version": 3
   },
   "file_extension": ".py",
   "mimetype": "text/x-python",
   "name": "python",
   "nbconvert_exporter": "python",
   "pygments_lexer": "ipython3",
   "version": "3.8.8"
  }
 },
 "nbformat": 4,
 "nbformat_minor": 5
}
