{
 "cells": [
  {
   "cell_type": "code",
   "execution_count": 1,
   "id": "e9232f59-6f42-4490-9b47-5f0de92ee44f",
   "metadata": {},
   "outputs": [],
   "source": [
    "from urllib.request import urlopen\n",
    "from urllib.parse import quote_plus as qp #문자 아스키코드로 변환\n",
    "from bs4 import BeautifulSoup\n",
    "from selenium import webdriver\n",
    "from selenium.webdriver.support import expected_conditions as EC\n",
    "from selenium.webdriver.common.by import By\n",
    "from selenium.webdriver.support.ui import WebDriverWait\n",
    "import time\n",
    "import os"
   ]
  },
  {
   "cell_type": "code",
   "execution_count": 2,
   "id": "ab7acef3-539c-455a-afe2-d3dc449aba59",
   "metadata": {},
   "outputs": [],
   "source": [
    "#인터넷 창 띄우기(chrome driver에 각자 개별 로그인)\n",
    "driver = webdriver.Chrome()\n",
    "url = 'https://www.instagram.com/'\n",
    "driver.get(url)"
   ]
  },
  {
   "cell_type": "code",
   "execution_count": 3,
   "id": "2ab3ff37-72e6-4e2f-8636-5670e3dbbe4c",
   "metadata": {},
   "outputs": [],
   "source": [
    "#검색어 태그로 인터넷 창 이동\n",
    "search = '헤걀라드' #검색어\n",
    "baseurl = 'https://www.instagram.com/explore/tags/'\n",
    "url = baseurl + qp(search)\n",
    "driver.get(url)\n",
    "WebDriverWait(driver, 10).until(EC.element_to_be_clickable((By.CLASS_NAME,'v1Nh3.kIKUG._bz0w')))\n",
    "imgurl=[] #이미지 url 저장 list"
   ]
  },
  {
   "cell_type": "code",
   "execution_count": 4,
   "id": "ecfe0714-37c0-4401-93c6-60256a006dd1",
   "metadata": {},
   "outputs": [
    {
     "name": "stdout",
     "output_type": "stream",
     "text": [
      "스크롤 0번 실행, 33개 그림을 가져올 수 있습니다.\n",
      "스크롤 1번 실행, 45개 그림을 가져올 수 있습니다.\n",
      "스크롤 2번 실행, 57개 그림을 가져올 수 있습니다.\n",
      "스크롤 3번 실행, 69개 그림을 가져올 수 있습니다.\n",
      "스크롤 4번 실행, 72개 그림을 가져올 수 있습니다.\n",
      "스크롤 5번 실행, 72개 그림을 가져올 수 있습니다.\n",
      "스크롤 6번 실행, 72개 그림을 가져올 수 있습니다.\n"
     ]
    },
    {
     "ename": "WebDriverException",
     "evalue": "Message: chrome not reachable\n  (Session info: chrome=101.0.4951.67)\nStacktrace:\nBacktrace:\n\tOrdinal0 [0x00D2B8F3+2406643]\n\tOrdinal0 [0x00CBAF31+1945393]\n\tOrdinal0 [0x00BAC610+837136]\n\tOrdinal0 [0x00BA0442+787522]\n\tOrdinal0 [0x00BA0C78+789624]\n\tOrdinal0 [0x00BA24B2+795826]\n\tOrdinal0 [0x00B9BF09+769801]\n\tOrdinal0 [0x00BADAC0+842432]\n\tOrdinal0 [0x00C03E62+1195618]\n\tOrdinal0 [0x00BF4096+1130646]\n\tOrdinal0 [0x00BCE636+976438]\n\tOrdinal0 [0x00BCF546+980294]\n\tGetHandleVerifier [0x00F99612+2498066]\n\tGetHandleVerifier [0x00F8C920+2445600]\n\tGetHandleVerifier [0x00DC4F2A+579370]\n\tGetHandleVerifier [0x00DC3D36+574774]\n\tOrdinal0 [0x00CC1C0B+1973259]\n\tOrdinal0 [0x00CC6688+1992328]\n\tOrdinal0 [0x00CC6775+1992565]\n\tOrdinal0 [0x00CCF8D1+2029777]\n\tBaseThreadInitThunk [0x75C4FA29+25]\n\tRtlGetAppContainerNamedObjectPath [0x76FA7A7E+286]\n\tRtlGetAppContainerNamedObjectPath [0x76FA7A4E+238]\n",
     "output_type": "error",
     "traceback": [
      "\u001b[1;31m---------------------------------------------------------------------------\u001b[0m",
      "\u001b[1;31mWebDriverException\u001b[0m                        Traceback (most recent call last)",
      "\u001b[1;32mC:\\Users\\POSCOU~1\\AppData\\Local\\Temp/ipykernel_12064/3449780606.py\u001b[0m in \u001b[0;36m<module>\u001b[1;34m\u001b[0m\n\u001b[0;32m     35\u001b[0m             \u001b[0mdriver\u001b[0m\u001b[1;33m.\u001b[0m\u001b[0mexecute_script\u001b[0m\u001b[1;33m(\u001b[0m\u001b[1;34m\"window.scrollTo(0, document.body.scrollHeight);\"\u001b[0m\u001b[1;33m)\u001b[0m\u001b[1;33m\u001b[0m\u001b[1;33m\u001b[0m\u001b[0m\n\u001b[0;32m     36\u001b[0m             \u001b[0mtime\u001b[0m\u001b[1;33m.\u001b[0m\u001b[0msleep\u001b[0m\u001b[1;33m(\u001b[0m\u001b[0mscroll_pause_time\u001b[0m\u001b[1;33m)\u001b[0m\u001b[1;33m\u001b[0m\u001b[1;33m\u001b[0m\u001b[0m\n\u001b[1;32m---> 37\u001b[1;33m             \u001b[0mnew_height\u001b[0m \u001b[1;33m=\u001b[0m \u001b[0mdriver\u001b[0m\u001b[1;33m.\u001b[0m\u001b[0mexecute_script\u001b[0m\u001b[1;33m(\u001b[0m\u001b[1;34m\"return document.body.scrollHeight\"\u001b[0m\u001b[1;33m)\u001b[0m\u001b[1;33m\u001b[0m\u001b[1;33m\u001b[0m\u001b[0m\n\u001b[0m\u001b[0;32m     38\u001b[0m             \u001b[0mdriver\u001b[0m\u001b[1;33m.\u001b[0m\u001b[0mexecute_script\u001b[0m\u001b[1;33m(\u001b[0m\u001b[1;34m'scrollBy(0,{})'\u001b[0m\u001b[1;33m.\u001b[0m\u001b[0mformat\u001b[0m\u001b[1;33m(\u001b[0m\u001b[0mupscroll\u001b[0m\u001b[1;33m)\u001b[0m\u001b[1;33m)\u001b[0m\u001b[1;33m\u001b[0m\u001b[1;33m\u001b[0m\u001b[0m\n\u001b[0;32m     39\u001b[0m         \u001b[1;32melse\u001b[0m\u001b[1;33m:\u001b[0m\u001b[1;33m\u001b[0m\u001b[1;33m\u001b[0m\u001b[0m\n",
      "\u001b[1;32mC:\\ProgramData\\Anaconda3\\lib\\site-packages\\selenium\\webdriver\\remote\\webdriver.py\u001b[0m in \u001b[0;36mexecute_script\u001b[1;34m(self, script, *args)\u001b[0m\n\u001b[0;32m    882\u001b[0m         \u001b[0mcommand\u001b[0m \u001b[1;33m=\u001b[0m \u001b[0mCommand\u001b[0m\u001b[1;33m.\u001b[0m\u001b[0mW3C_EXECUTE_SCRIPT\u001b[0m\u001b[1;33m\u001b[0m\u001b[1;33m\u001b[0m\u001b[0m\n\u001b[0;32m    883\u001b[0m \u001b[1;33m\u001b[0m\u001b[0m\n\u001b[1;32m--> 884\u001b[1;33m         return self.execute(command, {\n\u001b[0m\u001b[0;32m    885\u001b[0m             \u001b[1;34m'script'\u001b[0m\u001b[1;33m:\u001b[0m \u001b[0mscript\u001b[0m\u001b[1;33m,\u001b[0m\u001b[1;33m\u001b[0m\u001b[1;33m\u001b[0m\u001b[0m\n\u001b[0;32m    886\u001b[0m             'args': converted_args})['value']\n",
      "\u001b[1;32mC:\\ProgramData\\Anaconda3\\lib\\site-packages\\selenium\\webdriver\\remote\\webdriver.py\u001b[0m in \u001b[0;36mexecute\u001b[1;34m(self, driver_command, params)\u001b[0m\n\u001b[0;32m    428\u001b[0m         \u001b[0mresponse\u001b[0m \u001b[1;33m=\u001b[0m \u001b[0mself\u001b[0m\u001b[1;33m.\u001b[0m\u001b[0mcommand_executor\u001b[0m\u001b[1;33m.\u001b[0m\u001b[0mexecute\u001b[0m\u001b[1;33m(\u001b[0m\u001b[0mdriver_command\u001b[0m\u001b[1;33m,\u001b[0m \u001b[0mparams\u001b[0m\u001b[1;33m)\u001b[0m\u001b[1;33m\u001b[0m\u001b[1;33m\u001b[0m\u001b[0m\n\u001b[0;32m    429\u001b[0m         \u001b[1;32mif\u001b[0m \u001b[0mresponse\u001b[0m\u001b[1;33m:\u001b[0m\u001b[1;33m\u001b[0m\u001b[1;33m\u001b[0m\u001b[0m\n\u001b[1;32m--> 430\u001b[1;33m             \u001b[0mself\u001b[0m\u001b[1;33m.\u001b[0m\u001b[0merror_handler\u001b[0m\u001b[1;33m.\u001b[0m\u001b[0mcheck_response\u001b[0m\u001b[1;33m(\u001b[0m\u001b[0mresponse\u001b[0m\u001b[1;33m)\u001b[0m\u001b[1;33m\u001b[0m\u001b[1;33m\u001b[0m\u001b[0m\n\u001b[0m\u001b[0;32m    431\u001b[0m             response['value'] = self._unwrap_value(\n\u001b[0;32m    432\u001b[0m                 response.get('value', None))\n",
      "\u001b[1;32mC:\\ProgramData\\Anaconda3\\lib\\site-packages\\selenium\\webdriver\\remote\\errorhandler.py\u001b[0m in \u001b[0;36mcheck_response\u001b[1;34m(self, response)\u001b[0m\n\u001b[0;32m    245\u001b[0m                 \u001b[0malert_text\u001b[0m \u001b[1;33m=\u001b[0m \u001b[0mvalue\u001b[0m\u001b[1;33m[\u001b[0m\u001b[1;34m'alert'\u001b[0m\u001b[1;33m]\u001b[0m\u001b[1;33m.\u001b[0m\u001b[0mget\u001b[0m\u001b[1;33m(\u001b[0m\u001b[1;34m'text'\u001b[0m\u001b[1;33m)\u001b[0m\u001b[1;33m\u001b[0m\u001b[1;33m\u001b[0m\u001b[0m\n\u001b[0;32m    246\u001b[0m             \u001b[1;32mraise\u001b[0m \u001b[0mexception_class\u001b[0m\u001b[1;33m(\u001b[0m\u001b[0mmessage\u001b[0m\u001b[1;33m,\u001b[0m \u001b[0mscreen\u001b[0m\u001b[1;33m,\u001b[0m \u001b[0mstacktrace\u001b[0m\u001b[1;33m,\u001b[0m \u001b[0malert_text\u001b[0m\u001b[1;33m)\u001b[0m  \u001b[1;31m# type: ignore[call-arg]  # mypy is not smart enough here\u001b[0m\u001b[1;33m\u001b[0m\u001b[1;33m\u001b[0m\u001b[0m\n\u001b[1;32m--> 247\u001b[1;33m         \u001b[1;32mraise\u001b[0m \u001b[0mexception_class\u001b[0m\u001b[1;33m(\u001b[0m\u001b[0mmessage\u001b[0m\u001b[1;33m,\u001b[0m \u001b[0mscreen\u001b[0m\u001b[1;33m,\u001b[0m \u001b[0mstacktrace\u001b[0m\u001b[1;33m)\u001b[0m\u001b[1;33m\u001b[0m\u001b[1;33m\u001b[0m\u001b[0m\n\u001b[0m\u001b[0;32m    248\u001b[0m \u001b[1;33m\u001b[0m\u001b[0m\n\u001b[0;32m    249\u001b[0m     \u001b[1;32mdef\u001b[0m \u001b[0m_value_or_default\u001b[0m\u001b[1;33m(\u001b[0m\u001b[0mself\u001b[0m\u001b[1;33m,\u001b[0m \u001b[0mobj\u001b[0m\u001b[1;33m:\u001b[0m \u001b[0mMapping\u001b[0m\u001b[1;33m[\u001b[0m\u001b[0m_KT\u001b[0m\u001b[1;33m,\u001b[0m \u001b[0m_VT\u001b[0m\u001b[1;33m]\u001b[0m\u001b[1;33m,\u001b[0m \u001b[0mkey\u001b[0m\u001b[1;33m:\u001b[0m \u001b[0m_KT\u001b[0m\u001b[1;33m,\u001b[0m \u001b[0mdefault\u001b[0m\u001b[1;33m:\u001b[0m \u001b[0m_VT\u001b[0m\u001b[1;33m)\u001b[0m \u001b[1;33m->\u001b[0m \u001b[0m_VT\u001b[0m\u001b[1;33m:\u001b[0m\u001b[1;33m\u001b[0m\u001b[1;33m\u001b[0m\u001b[0m\n",
      "\u001b[1;31mWebDriverException\u001b[0m: Message: chrome not reachable\n  (Session info: chrome=101.0.4951.67)\nStacktrace:\nBacktrace:\n\tOrdinal0 [0x00D2B8F3+2406643]\n\tOrdinal0 [0x00CBAF31+1945393]\n\tOrdinal0 [0x00BAC610+837136]\n\tOrdinal0 [0x00BA0442+787522]\n\tOrdinal0 [0x00BA0C78+789624]\n\tOrdinal0 [0x00BA24B2+795826]\n\tOrdinal0 [0x00B9BF09+769801]\n\tOrdinal0 [0x00BADAC0+842432]\n\tOrdinal0 [0x00C03E62+1195618]\n\tOrdinal0 [0x00BF4096+1130646]\n\tOrdinal0 [0x00BCE636+976438]\n\tOrdinal0 [0x00BCF546+980294]\n\tGetHandleVerifier [0x00F99612+2498066]\n\tGetHandleVerifier [0x00F8C920+2445600]\n\tGetHandleVerifier [0x00DC4F2A+579370]\n\tGetHandleVerifier [0x00DC3D36+574774]\n\tOrdinal0 [0x00CC1C0B+1973259]\n\tOrdinal0 [0x00CC6688+1992328]\n\tOrdinal0 [0x00CC6775+1992565]\n\tOrdinal0 [0x00CCF8D1+2029777]\n\tBaseThreadInitThunk [0x75C4FA29+25]\n\tRtlGetAppContainerNamedObjectPath [0x76FA7A7E+286]\n\tRtlGetAppContainerNamedObjectPath [0x76FA7A4E+238]\n"
     ]
    }
   ],
   "source": [
    "scroll_num = 100 #스크롤 횟수\n",
    "scroll_pause_time=1.5 #스크롤 내릴때 이미지 로딩되는 시간 기다림\n",
    "upscroll=-100\n",
    "#스크롤 하기\n",
    "#스크롤은 기다리기 귀찮으면 직접 한 후에 아래 코드 실행해도 됨\n",
    "#인터넷 환경에 따라 이미지 로딩이 느릴때, 스크롤이 적게 실행될 수 있음\n",
    "breaker = [] # 업데이트 5회이상 안될시, break\n",
    "\n",
    "\n",
    "for i in range(scroll_num+1):\n",
    "\n",
    "    #파싱\n",
    "    html = driver.page_source\n",
    "    soup = BeautifulSoup(html)\n",
    "    insta = soup.select('.v1Nh3.kIKUG._bz0w')\n",
    "    for pic in insta:\n",
    "        imgurl.append(pic.select_one('.KL4Bh').img['src']) #이미지 주소 가져오기\n",
    "        imgurl = (list(set(imgurl))) #이미지주소 중복 제거\n",
    "    \n",
    "    print('스크롤 {}번 실행, {}개 그림을 가져올 수 있습니다.'.format(i, len(list(set(imgurl)))))\n",
    "    breaker.append(len(list(set(imgurl))))\n",
    "    time.sleep(scroll_pause_time)\n",
    "    last_height = driver.execute_script(\"return document.body.scrollHeight\")\n",
    "    driver.execute_script(\"window.scrollTo(0, document.body.scrollHeight);\")\n",
    "    time.sleep(scroll_pause_time)\n",
    "    new_height = driver.execute_script(\"return document.body.scrollHeight\")\n",
    "    driver.execute_script('scrollBy(0,{})'.format(upscroll))\n",
    "    \n",
    "    if new_height == last_height:\n",
    "        driver.execute_script(\"window.scrollTo(0, document.body.scrollHeight);\")\n",
    "        time.sleep(scroll_pause_time)\n",
    "        new_height = driver.execute_script(\"return document.body.scrollHeight\")\n",
    "        driver.execute_script('scrollBy(0,{})'.format(upscroll))\n",
    "        if new_height == last_height:\n",
    "            driver.execute_script(\"window.scrollTo(0, document.body.scrollHeight);\")\n",
    "            time.sleep(scroll_pause_time)\n",
    "            new_height = driver.execute_script(\"return document.body.scrollHeight\")\n",
    "            driver.execute_script('scrollBy(0,{})'.format(upscroll))\n",
    "        else:\n",
    "            last_height = new_height\n",
    "            continue\n",
    "    if len(breaker)>5 and breaker[-5]==breaker[-1]: \n",
    "        print('더이상 update가 없습니다.')\n",
    "        break"
   ]
  },
  {
   "cell_type": "code",
   "execution_count": 125,
   "id": "62537cb5-c005-4eda-876e-66f637df1a47",
   "metadata": {},
   "outputs": [
    {
     "name": "stdout",
     "output_type": "stream",
     "text": [
      "이미지 저장 중 : 406/406\r"
     ]
    }
   ],
   "source": [
    "if search not in os.listdir(): os.mkdir(search)  #폴더 생성\n",
    "for i, pic in enumerate(imgurl):\n",
    "    with urlopen(pic) as f: #날짜 시간 포함하여 이미지 저장\n",
    "        with open('./'+search+'/'+search+'_'+'{0:05d}'.format(i+1)+'_'+time.strftime('%y%m%d-%H%M')+'.jpg','wb') as h:\n",
    "            img = f.read()\n",
    "            h.write(img)\n",
    "    print('이미지 저장 중 : {}/{}'.format(i+1,len(imgurl)), end='\\r', flush=True)"
   ]
  },
  {
   "cell_type": "code",
   "execution_count": null,
   "id": "42850ce1-1efd-469d-adef-0bc2671de35b",
   "metadata": {},
   "outputs": [],
   "source": []
  }
 ],
 "metadata": {
  "kernelspec": {
   "display_name": "Python 3 (ipykernel)",
   "language": "python",
   "name": "python3"
  },
  "language_info": {
   "codemirror_mode": {
    "name": "ipython",
    "version": 3
   },
   "file_extension": ".py",
   "mimetype": "text/x-python",
   "name": "python",
   "nbconvert_exporter": "python",
   "pygments_lexer": "ipython3",
   "version": "3.9.7"
  }
 },
 "nbformat": 4,
 "nbformat_minor": 5
}
