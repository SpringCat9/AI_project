{
 "cells": [
  {
   "cell_type": "code",
   "execution_count": 1,
   "id": "653535f7-445e-4610-8387-7d97dddbea69",
   "metadata": {},
   "outputs": [],
   "source": [
    "import os\n",
    "import pandas as pd\n",
    "import cv2\n",
    "from skimage.measure import compare_ssim\n",
    "from matplotlib import pyplot as plt"
   ]
  },
  {
   "cell_type": "code",
   "execution_count": 5,
   "id": "9e4f6ebf-1a37-4840-ae99-f4fe89106443",
   "metadata": {},
   "outputs": [
    {
     "data": {
      "text/plain": [
       "['01_nakseong',\n",
       " '02_scuba',\n",
       " '03_osteria',\n",
       " '04_houskewer',\n",
       " '05_gravy',\n",
       " '06_jungga',\n",
       " '07_edonggan',\n",
       " '08_hwanyeo',\n",
       " '09_badarang',\n",
       " '10_sushimura',\n",
       " '11_ugo',\n",
       " '12_kingsjokbal']"
      ]
     },
     "execution_count": 5,
     "metadata": {},
     "output_type": "execute_result"
    }
   ],
   "source": [
    "classes = sorted([i for i in os.listdir('./original_pictures') if i[0] is not '.' if os.path.isdir('./original_pictures/'+i)])\n",
    "classes"
   ]
  },
  {
   "cell_type": "code",
   "execution_count": 16,
   "id": "2f68704f-6b36-45a0-b70d-e4a21082ef37",
   "metadata": {},
   "outputs": [],
   "source": [
    "#동일한 크기를 갖는 파일 목록\n",
    "dup_photo = pd.DataFrame(columns=['filename', 'size'])\n",
    "for i in classes:\n",
    "    photo_list = os.listdir('./original_pictures/'+i)\n",
    "    photo_size = [os.path.getsize('./original_pictures/'+i+'/'+x) for x in photo_list]\n",
    "    photo = pd.DataFrame({'filename':photo_list, 'size':photo_size})\n",
    "    if len(photo) != len(set(photo_size)):#중복된 사이즈가 있을때\n",
    "        temp = pd.DataFrame(photo['size'].value_counts()>1)\n",
    "        dup_size = list(temp[temp['size']==True].index)\n",
    "        for j in range(len(dup_size)):\n",
    "            dup_photo = pd.concat([dup_photo, photo[photo['size']==dup_size[j]]])\n",
    "dup_photo.reset_index(drop=True, inplace=True)\n",
    "dup_photo['path'] = './original_pictures/'+dup_photo.filename.str.split('_').str[0]+'_'+dup_photo.filename.str.split('_').str[1]+'/'"
   ]
  },
  {
   "cell_type": "code",
   "execution_count": 17,
   "id": "5ced3750-bf4b-4c32-ba90-f286219c6c27",
   "metadata": {},
   "outputs": [
    {
     "data": {
      "text/html": [
       "<div>\n",
       "<style scoped>\n",
       "    .dataframe tbody tr th:only-of-type {\n",
       "        vertical-align: middle;\n",
       "    }\n",
       "\n",
       "    .dataframe tbody tr th {\n",
       "        vertical-align: top;\n",
       "    }\n",
       "\n",
       "    .dataframe thead th {\n",
       "        text-align: right;\n",
       "    }\n",
       "</style>\n",
       "<table border=\"1\" class=\"dataframe\">\n",
       "  <thead>\n",
       "    <tr style=\"text-align: right;\">\n",
       "      <th></th>\n",
       "      <th>filename</th>\n",
       "      <th>size</th>\n",
       "      <th>path</th>\n",
       "    </tr>\n",
       "  </thead>\n",
       "  <tbody>\n",
       "    <tr>\n",
       "      <th>0</th>\n",
       "      <td>01_nakseong_0140.jpg</td>\n",
       "      <td>134532</td>\n",
       "      <td>./original_pictures/01_nakseong/</td>\n",
       "    </tr>\n",
       "    <tr>\n",
       "      <th>1</th>\n",
       "      <td>01_nakseong_0316.jpg</td>\n",
       "      <td>134532</td>\n",
       "      <td>./original_pictures/01_nakseong/</td>\n",
       "    </tr>\n",
       "    <tr>\n",
       "      <th>2</th>\n",
       "      <td>06_jungga_0148.jpg</td>\n",
       "      <td>28997</td>\n",
       "      <td>./original_pictures/06_jungga/</td>\n",
       "    </tr>\n",
       "    <tr>\n",
       "      <th>3</th>\n",
       "      <td>06_jungga_0249.jpg</td>\n",
       "      <td>28997</td>\n",
       "      <td>./original_pictures/06_jungga/</td>\n",
       "    </tr>\n",
       "    <tr>\n",
       "      <th>4</th>\n",
       "      <td>06_jungga_0285.jpg</td>\n",
       "      <td>28997</td>\n",
       "      <td>./original_pictures/06_jungga/</td>\n",
       "    </tr>\n",
       "  </tbody>\n",
       "</table>\n",
       "</div>"
      ],
      "text/plain": [
       "               filename    size                              path\n",
       "0  01_nakseong_0140.jpg  134532  ./original_pictures/01_nakseong/\n",
       "1  01_nakseong_0316.jpg  134532  ./original_pictures/01_nakseong/\n",
       "2    06_jungga_0148.jpg   28997    ./original_pictures/06_jungga/\n",
       "3    06_jungga_0249.jpg   28997    ./original_pictures/06_jungga/\n",
       "4    06_jungga_0285.jpg   28997    ./original_pictures/06_jungga/"
      ]
     },
     "execution_count": 17,
     "metadata": {},
     "output_type": "execute_result"
    }
   ],
   "source": [
    "dup_photo.head()"
   ]
  },
  {
   "cell_type": "code",
   "execution_count": 18,
   "id": "d9670b4a-7936-407a-a4d5-4f172df77de9",
   "metadata": {},
   "outputs": [
    {
     "data": {
      "text/html": [
       "<div>\n",
       "<style scoped>\n",
       "    .dataframe tbody tr th:only-of-type {\n",
       "        vertical-align: middle;\n",
       "    }\n",
       "\n",
       "    .dataframe tbody tr th {\n",
       "        vertical-align: top;\n",
       "    }\n",
       "\n",
       "    .dataframe thead th {\n",
       "        text-align: right;\n",
       "    }\n",
       "</style>\n",
       "<table border=\"1\" class=\"dataframe\">\n",
       "  <thead>\n",
       "    <tr style=\"text-align: right;\">\n",
       "      <th></th>\n",
       "      <th>size</th>\n",
       "      <th>path</th>\n",
       "    </tr>\n",
       "  </thead>\n",
       "  <tbody>\n",
       "    <tr>\n",
       "      <th>0</th>\n",
       "      <td>134532</td>\n",
       "      <td>./original_pictures/01_nakseong/</td>\n",
       "    </tr>\n",
       "    <tr>\n",
       "      <th>1</th>\n",
       "      <td>28997</td>\n",
       "      <td>./original_pictures/06_jungga/</td>\n",
       "    </tr>\n",
       "    <tr>\n",
       "      <th>2</th>\n",
       "      <td>10897</td>\n",
       "      <td>./original_pictures/06_jungga/</td>\n",
       "    </tr>\n",
       "    <tr>\n",
       "      <th>3</th>\n",
       "      <td>16418</td>\n",
       "      <td>./original_pictures/06_jungga/</td>\n",
       "    </tr>\n",
       "    <tr>\n",
       "      <th>4</th>\n",
       "      <td>317580</td>\n",
       "      <td>./original_pictures/07_edonggan/</td>\n",
       "    </tr>\n",
       "  </tbody>\n",
       "</table>\n",
       "</div>"
      ],
      "text/plain": [
       "     size                              path\n",
       "0  134532  ./original_pictures/01_nakseong/\n",
       "1   28997    ./original_pictures/06_jungga/\n",
       "2   10897    ./original_pictures/06_jungga/\n",
       "3   16418    ./original_pictures/06_jungga/\n",
       "4  317580  ./original_pictures/07_edonggan/"
      ]
     },
     "execution_count": 18,
     "metadata": {},
     "output_type": "execute_result"
    }
   ],
   "source": [
    "uniq = dup_photo[['size', 'path']].drop_duplicates().reset_index(drop=True)\n",
    "uniq.head()"
   ]
  },
  {
   "cell_type": "code",
   "execution_count": 19,
   "id": "f8836ca8-9e1e-4c77-879a-dac1777f98f8",
   "metadata": {},
   "outputs": [
    {
     "name": "stderr",
     "output_type": "stream",
     "text": [
      "C:\\Users\\sadie\\anaconda3\\envs\\TF21\\lib\\site-packages\\ipykernel_launcher.py:10: UserWarning: DEPRECATED: skimage.measure.compare_ssim has been moved to skimage.metrics.structural_similarity. It will be removed from skimage.measure in version 0.18.\n",
      "  # Remove the CWD from sys.path while we load stuff.\n"
     ]
    }
   ],
   "source": [
    "for i in range(len(uniq)):\n",
    "    temp = dup_photo[(dup_photo['size']==uniq['size'][i]) & (dup_photo['path']==uniq['path'][i])].reset_index(drop=True)\n",
    "    img0 = cv2.imread(temp['path'][0]+temp['filename'][0])\n",
    "    img0 = cv2.cvtColor(img0, cv2.COLOR_BGR2RGB)\n",
    "    img_gray0 = cv2.cvtColor(img0, cv2.COLOR_RGB2GRAY)\n",
    "    img1 = cv2.imread(temp['path'][1]+temp['filename'][1])\n",
    "    img1 = cv2.cvtColor(img1, cv2.COLOR_BGR2RGB)\n",
    "    img_gray1 = cv2.cvtColor(img1, cv2.COLOR_RGB2GRAY)\n",
    "    if img_gray0.shape == img_gray1.shape:\n",
    "        score, diff = compare_ssim(img_gray0, img_gray1, full=True)\n",
    "        if score > 0.99:\n",
    "            fig = plt.figure()\n",
    "            rows, cols = 1, 2\n",
    "            \n",
    "            ax1 = fig.add_subplot(rows,cols,1)\n",
    "            ax1.imshow(img0)\n",
    "            ax1.set_title(temp['filename'][0])\n",
    "            ax1.axis('off')\n",
    "            \n",
    "            ax2=fig.add_subplot(rows,cols,2)\n",
    "            ax2.imshow(img1)\n",
    "            ax2.set_title(temp['filename'][1])\n",
    "            ax2.axis('off')\n",
    "            \n",
    "            plt.show()\n",
    "            print('사진이 중복되어, 오른쪽 그림을 삭제합니다.')\n",
    "            os.remove(temp['path'][1]+temp['filename'][1])"
   ]
  },
  {
   "cell_type": "code",
   "execution_count": 15,
   "id": "ec849002-f313-4f2b-9139-369664328f4b",
   "metadata": {},
   "outputs": [],
   "source": [
    "#이름 변경(class_이름_사진번호)\n",
    "'''0:04d를 0:05d로 변경해서 실행한 후, 다시 0:04d로 변경해서 실행'''\n",
    "for store in classes:\n",
    "    for i, file in enumerate(os.listdir('./original_pictures/'+store)):\n",
    "        os.rename('./original_pictures/'+store+'/'+file, './original_pictures/'+store+'/'+store+'_{0:04d}.jpg'.format(i+1))"
   ]
  },
  {
   "cell_type": "code",
   "execution_count": null,
   "id": "185fa49a-2e88-433b-840d-39301ea85506",
   "metadata": {},
   "outputs": [],
   "source": []
  }
 ],
 "metadata": {
  "kernelspec": {
   "display_name": "TF21",
   "language": "python",
   "name": "tf21"
  },
  "language_info": {
   "codemirror_mode": {
    "name": "ipython",
    "version": 3
   },
   "file_extension": ".py",
   "mimetype": "text/x-python",
   "name": "python",
   "nbconvert_exporter": "python",
   "pygments_lexer": "ipython3",
   "version": "3.6.13"
  }
 },
 "nbformat": 4,
 "nbformat_minor": 5
}
