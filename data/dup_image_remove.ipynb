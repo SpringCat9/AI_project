{
 "cells": [
  {
   "cell_type": "code",
   "execution_count": 1,
   "id": "653535f7-445e-4610-8387-7d97dddbea69",
   "metadata": {},
   "outputs": [],
   "source": [
    "import os\n",
    "import pandas as pd\n",
    "import cv2\n",
    "from skimage.measure import compare_ssim\n",
    "from matplotlib import pyplot as plt"
   ]
  },
  {
   "cell_type": "code",
   "execution_count": 2,
   "id": "9e4f6ebf-1a37-4840-ae99-f4fe89106443",
   "metadata": {},
   "outputs": [
    {
     "data": {
      "text/plain": [
       "['01_nakseong',\n",
       " '02_scuba',\n",
       " '03_osteria',\n",
       " '04_hou_skewer',\n",
       " '05_gravy',\n",
       " '06_jungga',\n",
       " '07_edong_gan',\n",
       " '08_hwanyeo',\n",
       " '09_badarang',\n",
       " '10_sushi_mura',\n",
       " '11_ugo',\n",
       " '12_kingsjokbal']"
      ]
     },
     "execution_count": 2,
     "metadata": {},
     "output_type": "execute_result"
    }
   ],
   "source": [
    "classes = sorted([i for i in os.listdir('./original_pictures') if i[0] is not '.' if os.path.isdir('./original_pictures/'+i)])\n",
    "classes"
   ]
  },
  {
   "cell_type": "code",
   "execution_count": 3,
   "id": "2f68704f-6b36-45a0-b70d-e4a21082ef37",
   "metadata": {},
   "outputs": [],
   "source": [
    "#동일한 크기를 갖는 파일 목록\n",
    "dup_photo = pd.DataFrame(columns=['filename', 'size'])\n",
    "for i in classes:\n",
    "    photo_list = os.listdir('./original_pictures/'+i)\n",
    "    photo_size = [os.path.getsize('./original_pictures/'+i+'/'+x) for x in photo_list]\n",
    "    photo = pd.DataFrame({'filename':photo_list, 'size':photo_size})\n",
    "    if len(photo) != len(set(photo_size)):#중복된 사이즈가 있을때\n",
    "        temp = pd.DataFrame(photo['size'].value_counts()>1)\n",
    "        dup_size = list(temp[temp['size']==True].index)\n",
    "        for j in range(len(dup_size)):\n",
    "            dup_photo = pd.concat([dup_photo, photo[photo['size']==dup_size[j]]])\n",
    "dup_photo.reset_index(drop=True, inplace=True)\n",
    "dup_photo['path'] = './original_pictures/'+dup_photo.filename.str.split('_').str[0]+'_'+dup_photo.filename.str.split('_').str[1]+'/'"
   ]
  },
  {
   "cell_type": "code",
   "execution_count": 4,
   "id": "5ced3750-bf4b-4c32-ba90-f286219c6c27",
   "metadata": {},
   "outputs": [
    {
     "data": {
      "text/html": [
       "<div>\n",
       "<style scoped>\n",
       "    .dataframe tbody tr th:only-of-type {\n",
       "        vertical-align: middle;\n",
       "    }\n",
       "\n",
       "    .dataframe tbody tr th {\n",
       "        vertical-align: top;\n",
       "    }\n",
       "\n",
       "    .dataframe thead th {\n",
       "        text-align: right;\n",
       "    }\n",
       "</style>\n",
       "<table border=\"1\" class=\"dataframe\">\n",
       "  <thead>\n",
       "    <tr style=\"text-align: right;\">\n",
       "      <th></th>\n",
       "      <th>filename</th>\n",
       "      <th>size</th>\n",
       "      <th>path</th>\n",
       "    </tr>\n",
       "  </thead>\n",
       "  <tbody>\n",
       "    <tr>\n",
       "      <th>0</th>\n",
       "      <td>01_nakseong_0140.jpg</td>\n",
       "      <td>134532</td>\n",
       "      <td>./original_pictures/01_nakseong/</td>\n",
       "    </tr>\n",
       "    <tr>\n",
       "      <th>1</th>\n",
       "      <td>01_nakseong_0316.jpg</td>\n",
       "      <td>134532</td>\n",
       "      <td>./original_pictures/01_nakseong/</td>\n",
       "    </tr>\n",
       "    <tr>\n",
       "      <th>2</th>\n",
       "      <td>04_hou_skewer_0242.jpg</td>\n",
       "      <td>235911</td>\n",
       "      <td>./original_pictures/04_hou/</td>\n",
       "    </tr>\n",
       "    <tr>\n",
       "      <th>3</th>\n",
       "      <td>04_hou_skewer_0316.jpg</td>\n",
       "      <td>235911</td>\n",
       "      <td>./original_pictures/04_hou/</td>\n",
       "    </tr>\n",
       "    <tr>\n",
       "      <th>4</th>\n",
       "      <td>04_hou_skewer_0211.jpg</td>\n",
       "      <td>318348</td>\n",
       "      <td>./original_pictures/04_hou/</td>\n",
       "    </tr>\n",
       "  </tbody>\n",
       "</table>\n",
       "</div>"
      ],
      "text/plain": [
       "                 filename    size                              path\n",
       "0    01_nakseong_0140.jpg  134532  ./original_pictures/01_nakseong/\n",
       "1    01_nakseong_0316.jpg  134532  ./original_pictures/01_nakseong/\n",
       "2  04_hou_skewer_0242.jpg  235911       ./original_pictures/04_hou/\n",
       "3  04_hou_skewer_0316.jpg  235911       ./original_pictures/04_hou/\n",
       "4  04_hou_skewer_0211.jpg  318348       ./original_pictures/04_hou/"
      ]
     },
     "execution_count": 4,
     "metadata": {},
     "output_type": "execute_result"
    }
   ],
   "source": [
    "dup_photo.head()"
   ]
  },
  {
   "cell_type": "code",
   "execution_count": 5,
   "id": "d9670b4a-7936-407a-a4d5-4f172df77de9",
   "metadata": {},
   "outputs": [
    {
     "data": {
      "text/html": [
       "<div>\n",
       "<style scoped>\n",
       "    .dataframe tbody tr th:only-of-type {\n",
       "        vertical-align: middle;\n",
       "    }\n",
       "\n",
       "    .dataframe tbody tr th {\n",
       "        vertical-align: top;\n",
       "    }\n",
       "\n",
       "    .dataframe thead th {\n",
       "        text-align: right;\n",
       "    }\n",
       "</style>\n",
       "<table border=\"1\" class=\"dataframe\">\n",
       "  <thead>\n",
       "    <tr style=\"text-align: right;\">\n",
       "      <th></th>\n",
       "      <th>size</th>\n",
       "      <th>path</th>\n",
       "    </tr>\n",
       "  </thead>\n",
       "  <tbody>\n",
       "    <tr>\n",
       "      <th>0</th>\n",
       "      <td>134532</td>\n",
       "      <td>./original_pictures/01_nakseong/</td>\n",
       "    </tr>\n",
       "    <tr>\n",
       "      <th>1</th>\n",
       "      <td>235911</td>\n",
       "      <td>./original_pictures/04_hou/</td>\n",
       "    </tr>\n",
       "    <tr>\n",
       "      <th>2</th>\n",
       "      <td>318348</td>\n",
       "      <td>./original_pictures/04_hou/</td>\n",
       "    </tr>\n",
       "    <tr>\n",
       "      <th>3</th>\n",
       "      <td>310122</td>\n",
       "      <td>./original_pictures/04_hou/</td>\n",
       "    </tr>\n",
       "    <tr>\n",
       "      <th>4</th>\n",
       "      <td>254817</td>\n",
       "      <td>./original_pictures/05_gravy/</td>\n",
       "    </tr>\n",
       "  </tbody>\n",
       "</table>\n",
       "</div>"
      ],
      "text/plain": [
       "     size                              path\n",
       "0  134532  ./original_pictures/01_nakseong/\n",
       "1  235911       ./original_pictures/04_hou/\n",
       "2  318348       ./original_pictures/04_hou/\n",
       "3  310122       ./original_pictures/04_hou/\n",
       "4  254817     ./original_pictures/05_gravy/"
      ]
     },
     "execution_count": 5,
     "metadata": {},
     "output_type": "execute_result"
    }
   ],
   "source": [
    "uniq = dup_photo[['size', 'path']].drop_duplicates().reset_index(drop=True)\n",
    "uniq.head()"
   ]
  },
  {
   "cell_type": "code",
   "execution_count": 8,
   "id": "f8836ca8-9e1e-4c77-879a-dac1777f98f8",
   "metadata": {},
   "outputs": [
    {
     "ename": "error",
     "evalue": "OpenCV(4.5.5) D:\\a\\opencv-python\\opencv-python\\opencv\\modules\\imgproc\\src\\color.cpp:182: error: (-215:Assertion failed) !_src.empty() in function 'cv::cvtColor'\n",
     "output_type": "error",
     "traceback": [
      "\u001b[1;31m---------------------------------------------------------------------------\u001b[0m",
      "\u001b[1;31merror\u001b[0m                                     Traceback (most recent call last)",
      "\u001b[1;32m<ipython-input-8-3262dbb5c131>\u001b[0m in \u001b[0;36m<module>\u001b[1;34m\u001b[0m\n\u001b[0;32m      2\u001b[0m     \u001b[0mtemp\u001b[0m \u001b[1;33m=\u001b[0m \u001b[0mdup_photo\u001b[0m\u001b[1;33m[\u001b[0m\u001b[1;33m(\u001b[0m\u001b[0mdup_photo\u001b[0m\u001b[1;33m[\u001b[0m\u001b[1;34m'size'\u001b[0m\u001b[1;33m]\u001b[0m\u001b[1;33m==\u001b[0m\u001b[0muniq\u001b[0m\u001b[1;33m[\u001b[0m\u001b[1;34m'size'\u001b[0m\u001b[1;33m]\u001b[0m\u001b[1;33m[\u001b[0m\u001b[0mi\u001b[0m\u001b[1;33m]\u001b[0m\u001b[1;33m)\u001b[0m \u001b[1;33m&\u001b[0m \u001b[1;33m(\u001b[0m\u001b[0mdup_photo\u001b[0m\u001b[1;33m[\u001b[0m\u001b[1;34m'path'\u001b[0m\u001b[1;33m]\u001b[0m\u001b[1;33m==\u001b[0m\u001b[0muniq\u001b[0m\u001b[1;33m[\u001b[0m\u001b[1;34m'path'\u001b[0m\u001b[1;33m]\u001b[0m\u001b[1;33m[\u001b[0m\u001b[0mi\u001b[0m\u001b[1;33m]\u001b[0m\u001b[1;33m)\u001b[0m\u001b[1;33m]\u001b[0m\u001b[1;33m.\u001b[0m\u001b[0mreset_index\u001b[0m\u001b[1;33m(\u001b[0m\u001b[0mdrop\u001b[0m\u001b[1;33m=\u001b[0m\u001b[1;32mTrue\u001b[0m\u001b[1;33m)\u001b[0m\u001b[1;33m\u001b[0m\u001b[1;33m\u001b[0m\u001b[0m\n\u001b[0;32m      3\u001b[0m     \u001b[0mimg0\u001b[0m \u001b[1;33m=\u001b[0m \u001b[0mcv2\u001b[0m\u001b[1;33m.\u001b[0m\u001b[0mimread\u001b[0m\u001b[1;33m(\u001b[0m\u001b[0mtemp\u001b[0m\u001b[1;33m[\u001b[0m\u001b[1;34m'path'\u001b[0m\u001b[1;33m]\u001b[0m\u001b[1;33m[\u001b[0m\u001b[1;36m0\u001b[0m\u001b[1;33m]\u001b[0m\u001b[1;33m+\u001b[0m\u001b[0mtemp\u001b[0m\u001b[1;33m[\u001b[0m\u001b[1;34m'filename'\u001b[0m\u001b[1;33m]\u001b[0m\u001b[1;33m[\u001b[0m\u001b[1;36m0\u001b[0m\u001b[1;33m]\u001b[0m\u001b[1;33m)\u001b[0m\u001b[1;33m\u001b[0m\u001b[1;33m\u001b[0m\u001b[0m\n\u001b[1;32m----> 4\u001b[1;33m     \u001b[0mimg0\u001b[0m \u001b[1;33m=\u001b[0m \u001b[0mcv2\u001b[0m\u001b[1;33m.\u001b[0m\u001b[0mcvtColor\u001b[0m\u001b[1;33m(\u001b[0m\u001b[0mimg0\u001b[0m\u001b[1;33m,\u001b[0m \u001b[0mcv2\u001b[0m\u001b[1;33m.\u001b[0m\u001b[0mCOLOR_BGR2RGB\u001b[0m\u001b[1;33m)\u001b[0m\u001b[1;33m\u001b[0m\u001b[1;33m\u001b[0m\u001b[0m\n\u001b[0m\u001b[0;32m      5\u001b[0m     \u001b[0mimg_gray0\u001b[0m \u001b[1;33m=\u001b[0m \u001b[0mcv2\u001b[0m\u001b[1;33m.\u001b[0m\u001b[0mcvtColor\u001b[0m\u001b[1;33m(\u001b[0m\u001b[0mimg0\u001b[0m\u001b[1;33m,\u001b[0m \u001b[0mcv2\u001b[0m\u001b[1;33m.\u001b[0m\u001b[0mCOLOR_RGB2GRAY\u001b[0m\u001b[1;33m)\u001b[0m\u001b[1;33m\u001b[0m\u001b[1;33m\u001b[0m\u001b[0m\n\u001b[0;32m      6\u001b[0m     \u001b[0mimg1\u001b[0m \u001b[1;33m=\u001b[0m \u001b[0mcv2\u001b[0m\u001b[1;33m.\u001b[0m\u001b[0mimread\u001b[0m\u001b[1;33m(\u001b[0m\u001b[0mtemp\u001b[0m\u001b[1;33m[\u001b[0m\u001b[1;34m'path'\u001b[0m\u001b[1;33m]\u001b[0m\u001b[1;33m[\u001b[0m\u001b[1;36m1\u001b[0m\u001b[1;33m]\u001b[0m\u001b[1;33m+\u001b[0m\u001b[0mtemp\u001b[0m\u001b[1;33m[\u001b[0m\u001b[1;34m'filename'\u001b[0m\u001b[1;33m]\u001b[0m\u001b[1;33m[\u001b[0m\u001b[1;36m1\u001b[0m\u001b[1;33m]\u001b[0m\u001b[1;33m)\u001b[0m\u001b[1;33m\u001b[0m\u001b[1;33m\u001b[0m\u001b[0m\n",
      "\u001b[1;31merror\u001b[0m: OpenCV(4.5.5) D:\\a\\opencv-python\\opencv-python\\opencv\\modules\\imgproc\\src\\color.cpp:182: error: (-215:Assertion failed) !_src.empty() in function 'cv::cvtColor'\n"
     ]
    }
   ],
   "source": [
    "for i in range(len(uniq)):\n",
    "    temp = dup_photo[(dup_photo['size']==uniq['size'][i]) & (dup_photo['path']==uniq['path'][i])].reset_index(drop=True)\n",
    "    img0 = cv2.imread(temp['path'][0]+temp['filename'][0])\n",
    "    img0 = cv2.cvtColor(img0, cv2.COLOR_BGR2RGB)\n",
    "    img_gray0 = cv2.cvtColor(img0, cv2.COLOR_RGB2GRAY)\n",
    "    img1 = cv2.imread(temp['path'][1]+temp['filename'][1])\n",
    "    img1 = cv2.cvtColor(img1, cv2.COLOR_BGR2RGB)\n",
    "    img_gray1 = cv2.cvtColor(img1, cv2.COLOR_RGB2GRAY)\n",
    "    if img_gray0.shape == img_gray1.shape:\n",
    "        score, diff = compare_ssim(img_gray0, img_gray1, full=True)\n",
    "        if score > 0.99:\n",
    "            fig = plt.figure()\n",
    "            rows, cols = 1, 2\n",
    "            \n",
    "            ax1 = fig.add_subplot(rows,cols,1)\n",
    "            ax1.imshow(img0)\n",
    "            ax1.set_title(temp['filename'][0])\n",
    "            ax1.axis('off')\n",
    "            \n",
    "            ax2=fig.add_subplot(rows,cols,2)\n",
    "            ax2.imshow(img1)\n",
    "            ax2.set_title(temp['filename'][1])\n",
    "            ax2.axis('off')\n",
    "            \n",
    "            plt.show()\n",
    "            print('사진이 중복되어, 오른쪽 그림을 삭제합니다.')\n",
    "            os.remove(temp['path'][1]+temp['filename'][1])"
   ]
  },
  {
   "cell_type": "code",
   "execution_count": 16,
   "id": "5e317ea5-e8b4-483e-928a-96ddc2ec4089",
   "metadata": {},
   "outputs": [
    {
     "data": {
      "text/plain": [
       "'./original_pictures/04_hou/04_hou_skewer_0242.jpg'"
      ]
     },
     "execution_count": 16,
     "metadata": {},
     "output_type": "execute_result"
    }
   ],
   "source": [
    "temp['path'][0]+temp['filename'][0]"
   ]
  },
  {
   "cell_type": "code",
   "execution_count": 22,
   "id": "67307d04-ceb7-4d15-a817-ca14d7ad8a31",
   "metadata": {
    "tags": []
   },
   "outputs": [],
   "source": [
    "img0 = cv2.imread(temp['path'][0]+temp['filename'][0])"
   ]
  },
  {
   "cell_type": "code",
   "execution_count": 11,
   "id": "d703fda1-e695-424f-be28-fd22e89c7989",
   "metadata": {},
   "outputs": [
    {
     "ename": "error",
     "evalue": "OpenCV(4.5.5) D:\\a\\opencv-python\\opencv-python\\opencv\\modules\\imgproc\\src\\color.cpp:182: error: (-215:Assertion failed) !_src.empty() in function 'cv::cvtColor'\n",
     "output_type": "error",
     "traceback": [
      "\u001b[1;31m---------------------------------------------------------------------------\u001b[0m",
      "\u001b[1;31merror\u001b[0m                                     Traceback (most recent call last)",
      "\u001b[1;32m<ipython-input-11-5bb1106cf385>\u001b[0m in \u001b[0;36m<module>\u001b[1;34m\u001b[0m\n\u001b[1;32m----> 1\u001b[1;33m \u001b[0mimg0\u001b[0m \u001b[1;33m=\u001b[0m \u001b[0mcv2\u001b[0m\u001b[1;33m.\u001b[0m\u001b[0mcvtColor\u001b[0m\u001b[1;33m(\u001b[0m\u001b[0mimg0\u001b[0m\u001b[1;33m,\u001b[0m \u001b[0mcv2\u001b[0m\u001b[1;33m.\u001b[0m\u001b[0mCOLOR_BGR2RGB\u001b[0m\u001b[1;33m)\u001b[0m\u001b[1;33m\u001b[0m\u001b[1;33m\u001b[0m\u001b[0m\n\u001b[0m",
      "\u001b[1;31merror\u001b[0m: OpenCV(4.5.5) D:\\a\\opencv-python\\opencv-python\\opencv\\modules\\imgproc\\src\\color.cpp:182: error: (-215:Assertion failed) !_src.empty() in function 'cv::cvtColor'\n"
     ]
    }
   ],
   "source": [
    "img0 = cv2.cvtColor(img0, cv2.COLOR_BGR2RGB)"
   ]
  },
  {
   "cell_type": "code",
   "execution_count": 21,
   "id": "827ce6bf-7e2f-4376-9e06-cfbeb37af55c",
   "metadata": {},
   "outputs": [],
   "source": [
    "img0"
   ]
  }
 ],
 "metadata": {
  "kernelspec": {
   "display_name": "TF21",
   "language": "python",
   "name": "tf21"
  },
  "language_info": {
   "codemirror_mode": {
    "name": "ipython",
    "version": 3
   },
   "file_extension": ".py",
   "mimetype": "text/x-python",
   "name": "python",
   "nbconvert_exporter": "python",
   "pygments_lexer": "ipython3",
   "version": "3.6.13"
  }
 },
 "nbformat": 4,
 "nbformat_minor": 5
}
