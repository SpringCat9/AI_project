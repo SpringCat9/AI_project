{
 "cells": [
  {
   "cell_type": "markdown",
   "id": "9400df51-629b-4590-9011-76c5a43c9b98",
   "metadata": {},
   "source": [
    "파일 크기로 중복을 추정.\n",
    "이미지 비교는 코드가 복잡해서 구현 안함."
   ]
  },
  {
   "cell_type": "code",
   "execution_count": 73,
   "id": "653535f7-445e-4610-8387-7d97dddbea69",
   "metadata": {},
   "outputs": [],
   "source": [
    "import os\n",
    "import pandas as pd"
   ]
  },
  {
   "cell_type": "code",
   "execution_count": 74,
   "id": "9e4f6ebf-1a37-4840-ae99-f4fe89106443",
   "metadata": {},
   "outputs": [
    {
     "data": {
      "text/plain": [
       "['01_nakseong',\n",
       " '02_scuba',\n",
       " '03_osteria',\n",
       " '04_hou_skewer',\n",
       " '05_gravy',\n",
       " '06_jungga',\n",
       " '07_edong_gan',\n",
       " '08_hwanyeo',\n",
       " '09_badarang',\n",
       " '10_sushi_mura',\n",
       " '11_ugo']"
      ]
     },
     "execution_count": 74,
     "metadata": {},
     "output_type": "execute_result"
    }
   ],
   "source": [
    "classes = sorted([i for i in os.listdir('./original_pictures') if i[0] is not '.' if os.path.isdir('./original_pictures/'+i)])\n",
    "classes"
   ]
  },
  {
   "cell_type": "code",
   "execution_count": 102,
   "id": "2f68704f-6b36-45a0-b70d-e4a21082ef37",
   "metadata": {},
   "outputs": [
    {
     "name": "stdout",
     "output_type": "stream",
     "text": [
      "중복 추정 이미지 :01_nakseong_0092.jpg01_nakseong_0318.jpg\n",
      "중복 추정 이미지 :01_nakseong_0141.jpg01_nakseong_0320.jpg\n",
      "중복 추정 이미지 :01_nakseong_0199.jpg01_nakseong_0215.jpg\n",
      "중복 추정 이미지 :01_nakseong_0112.jpg01_nakseong_0121.jpg\n",
      "중복 추정 이미지 :01_nakseong_0153.jpg01_nakseong_0319.jpg\n",
      "중복 추정 이미지 :02_scuba_0146.jpg02_scuba_0167.jpg\n",
      "중복 추정 이미지 :02_scuba_0217.jpg02_scuba_0277.jpg\n",
      "중복 추정 이미지 :02_scuba_0165.jpg02_scuba_0297.jpg\n",
      "중복 추정 이미지 :02_scuba_0219.jpg02_scuba_0262.jpg\n",
      "중복 추정 이미지 :02_scuba_0043.jpg02_scuba_0255.jpg\n",
      "중복 추정 이미지 :02_scuba_0016.jpg02_scuba_0122.jpg\n",
      "중복 추정 이미지 :03_osteria_0044.jpg03_osteria_0174.jpg\n",
      "중복 추정 이미지 :03_osteria_0144.jpg03_osteria_0240.jpg\n",
      "중복 추정 이미지 :03_osteria_0050.jpg03_osteria_0249.jpg\n",
      "중복 추정 이미지 :03_osteria_0073.jpg03_osteria_0161.jpg\n",
      "중복 추정 이미지 :03_osteria_0199.jpg03_osteria_0255.jpg\n",
      "중복 추정 이미지 :03_osteria_0201.jpg03_osteria_0211.jpg\n",
      "중복 추정 이미지 :03_osteria_0011.jpg03_osteria_0025.jpg\n",
      "중복 추정 이미지 :03_osteria_0093.jpg03_osteria_0180.jpg\n",
      "중복 추정 이미지 :03_osteria_0075.jpg03_osteria_0119.jpg\n",
      "중복 추정 이미지 :04_hou_skewer_0242.jpg04_hou_skewer_0316.jpg\n",
      "중복 추정 이미지 :04_hou_skewer_0211.jpg04_hou_skewer_0323.jpg\n",
      "중복 추정 이미지 :04_hou_skewer_0218.jpg04_hou_skewer_0274.jpg\n",
      "중복 추정 이미지 :05_gravy_0007.jpg05_gravy_0062.jpg\n",
      "중복 추정 이미지 :06_jungga_0186.jpg06_jungga_0284.jpg\n",
      "중복 추정 이미지 :06_jungga_0192.jpg06_jungga_0240.jpg\n",
      "중복 추정 이미지 :06_jungga_0152.jpg06_jungga_0262.jpg\n",
      "중복 추정 이미지 :06_jungga_0210.jpg06_jungga_0295.jpg\n",
      "중복 추정 이미지 :06_jungga_0195.jpg06_jungga_0289.jpg\n",
      "중복 추정 이미지 :06_jungga_0121.jpg06_jungga_0249.jpg\n",
      "중복 추정 이미지 :06_jungga_0180.jpg06_jungga_0235.jpg\n",
      "중복 추정 이미지 :06_jungga_0176.jpg06_jungga_0277.jpg\n",
      "중복 추정 이미지 :06_jungga_0162.jpg06_jungga_0268.jpg\n",
      "중복 추정 이미지 :06_jungga_0119.jpg06_jungga_0248.jpg\n",
      "중복 추정 이미지 :06_jungga_0200.jpg06_jungga_0291.jpg\n",
      "중복 추정 이미지 :06_jungga_0147.jpg06_jungga_0260.jpg\n",
      "중복 추정 이미지 :06_jungga_0207.jpg06_jungga_0294.jpg\n",
      "중복 추정 이미지 :06_jungga_0148.jpg06_jungga_0256.jpg\n",
      "중복 추정 이미지 :06_jungga_0189.jpg06_jungga_0285.jpg\n",
      "중복 추정 이미지 :06_jungga_0179.jpg06_jungga_0278.jpg\n",
      "중복 추정 이미지 :06_jungga_0125.jpg06_jungga_0250.jpg\n",
      "중복 추정 이미지 :06_jungga_0153.jpg06_jungga_0219.jpg\n",
      "중복 추정 이미지 :06_jungga_0171.jpg06_jungga_0273.jpg\n",
      "중복 추정 이미지 :06_jungga_0161.jpg06_jungga_0267.jpg\n",
      "중복 추정 이미지 :06_jungga_0206.jpg06_jungga_0244.jpg\n",
      "중복 추정 이미지 :06_jungga_0198.jpg06_jungga_0290.jpg\n",
      "중복 추정 이미지 :06_jungga_0174.jpg06_jungga_0276.jpg\n",
      "중복 추정 이미지 :06_jungga_0142.jpg06_jungga_0259.jpg\n",
      "중복 추정 이미지 :07_edong_gan_0073.jpg07_edong_gan_0085.jpg07_edong_gan_0098.jpg07_edong_gan_0154.jpg07_edong_gan_0185.jpg07_edong_gan_0225.jpg\n",
      "중복 추정 이미지 :07_edong_gan_0009.jpg07_edong_gan_0054.jpg07_edong_gan_0063.jpg07_edong_gan_0072.jpg07_edong_gan_0194.jpg\n",
      "중복 추정 이미지 :07_edong_gan_0051.jpg07_edong_gan_0058.jpg07_edong_gan_0095.jpg07_edong_gan_0122.jpg07_edong_gan_0169.jpg\n",
      "중복 추정 이미지 :07_edong_gan_0007.jpg07_edong_gan_0030.jpg07_edong_gan_0093.jpg07_edong_gan_0192.jpg\n",
      "중복 추정 이미지 :07_edong_gan_0015.jpg07_edong_gan_0189.jpg07_edong_gan_0223.jpg\n",
      "중복 추정 이미지 :07_edong_gan_0004.jpg07_edong_gan_0013.jpg07_edong_gan_0174.jpg\n",
      "중복 추정 이미지 :07_edong_gan_0046.jpg07_edong_gan_0077.jpg07_edong_gan_0171.jpg\n",
      "중복 추정 이미지 :07_edong_gan_0021.jpg07_edong_gan_0076.jpg07_edong_gan_0086.jpg\n",
      "중복 추정 이미지 :07_edong_gan_0038.jpg07_edong_gan_0068.jpg07_edong_gan_0259.jpg\n",
      "중복 추정 이미지 :07_edong_gan_0017.jpg07_edong_gan_0179.jpg07_edong_gan_0196.jpg\n",
      "중복 추정 이미지 :07_edong_gan_0018.jpg07_edong_gan_0027.jpg07_edong_gan_0227.jpg\n",
      "중복 추정 이미지 :07_edong_gan_0001.jpg07_edong_gan_0047.jpg07_edong_gan_0145.jpg\n",
      "중복 추정 이미지 :07_edong_gan_0032.jpg07_edong_gan_0125.jpg\n",
      "중복 추정 이미지 :07_edong_gan_0011.jpg07_edong_gan_0036.jpg\n",
      "중복 추정 이미지 :07_edong_gan_0005.jpg07_edong_gan_0214.jpg\n",
      "중복 추정 이미지 :07_edong_gan_0055.jpg07_edong_gan_0170.jpg\n",
      "중복 추정 이미지 :07_edong_gan_0159.jpg07_edong_gan_0187.jpg\n",
      "중복 추정 이미지 :07_edong_gan_0198.jpg07_edong_gan_0219.jpg\n",
      "중복 추정 이미지 :07_edong_gan_0052.jpg07_edong_gan_0246.jpg\n",
      "중복 추정 이미지 :07_edong_gan_0158.jpg07_edong_gan_0184.jpg\n",
      "중복 추정 이미지 :07_edong_gan_0043.jpg07_edong_gan_0251.jpg\n",
      "중복 추정 이미지 :07_edong_gan_0096.jpg07_edong_gan_0134.jpg\n",
      "중복 추정 이미지 :07_edong_gan_0144.jpg07_edong_gan_0199.jpg\n",
      "중복 추정 이미지 :07_edong_gan_0146.jpg07_edong_gan_0234.jpg\n",
      "중복 추정 이미지 :07_edong_gan_0048.jpg07_edong_gan_0181.jpg\n",
      "중복 추정 이미지 :07_edong_gan_0180.jpg07_edong_gan_0209.jpg\n",
      "중복 추정 이미지 :07_edong_gan_0090.jpg07_edong_gan_0120.jpg\n",
      "중복 추정 이미지 :07_edong_gan_0115.jpg07_edong_gan_0121.jpg\n",
      "중복 추정 이미지 :07_edong_gan_0097.jpg07_edong_gan_0156.jpg\n",
      "중복 추정 이미지 :08_hwanyeo_0135.jpg08_hwanyeo_0208.jpg\n",
      "중복 추정 이미지 :09_badarang_0153.jpg09_badarang_0191.jpg\n",
      "중복 추정 이미지 :09_badarang_0239.jpg09_badarang_0293.jpg\n",
      "중복 추정 이미지 :09_badarang_0208.jpg09_badarang_0212.jpg\n",
      "중복 추정 이미지 :09_badarang_0027.jpg09_badarang_0199.jpg\n",
      "중복 추정 이미지 :09_badarang_0044.jpg09_badarang_0073.jpg\n",
      "중복 추정 이미지 :09_badarang_0076.jpg09_badarang_0252.jpg\n",
      "중복 추정 이미지 :09_badarang_0017.jpg09_badarang_0209.jpg\n",
      "중복 추정 이미지 :10_sushi_mura_0132.jpg10_sushi_mura_0272.jpg\n",
      "중복 추정 이미지 :10_sushi_mura_0201.jpg10_sushi_mura_0312.jpg\n",
      "중복 추정 이미지 :10_sushi_mura_0082.jpg10_sushi_mura_0289.jpg\n",
      "중복 추정 이미지 :11_ugo_0132.jpg11_ugo_0173.jpg\n",
      "중복 추정 이미지 :11_ugo_0169.jpg11_ugo_0197.jpg\n",
      "중복 추정 이미지 :11_ugo_0306.jpg11_ugo_0400.jpg\n"
     ]
    }
   ],
   "source": [
    "for i in classes:\n",
    "    photo_list = os.listdir('./original_pictures/'+i)\n",
    "    photo_size = [os.path.getsize('./original_pictures/'+i+'/'+x) for x in photo_list]\n",
    "    photo = pd.DataFrame({'filename':photo_list, 'size':photo_size})\n",
    "    if len(photo) != len(set(photo_size)):#중복된 사이즈가 있을때\n",
    "        temp = pd.DataFrame(photo['size'].value_counts()>1)\n",
    "        dup_size = list(temp[temp['size']==True].index)\n",
    "        for j in range(len(dup_size)):\n",
    "            dup_photo = photo[photo['size']==dup_size[j]]\n",
    "            print('중복 추정 이미지 :', end='')\n",
    "            for k in range(len(dup_photo)):\n",
    "                print(dup_photo['filename'].iloc[k], end = '')\n",
    "            print()"
   ]
  }
 ],
 "metadata": {
  "kernelspec": {
   "display_name": "TF21",
   "language": "python",
   "name": "tf21"
  },
  "language_info": {
   "codemirror_mode": {
    "name": "ipython",
    "version": 3
   },
   "file_extension": ".py",
   "mimetype": "text/x-python",
   "name": "python",
   "nbconvert_exporter": "python",
   "pygments_lexer": "ipython3",
   "version": "3.6.13"
  }
 },
 "nbformat": 4,
 "nbformat_minor": 5
}
