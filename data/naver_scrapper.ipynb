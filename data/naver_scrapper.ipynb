{
 "cells": [
  {
   "cell_type": "code",
   "execution_count": 1,
   "id": "e9232f59-6f42-4490-9b47-5f0de92ee44f",
   "metadata": {},
   "outputs": [],
   "source": [
    "from urllib.request import urlopen\n",
    "from urllib.parse import quote_plus as qp #문자 아스키코드로 변환\n",
    "from bs4 import BeautifulSoup\n",
    "from selenium import webdriver\n",
    "from selenium.webdriver.support import expected_conditions as EC\n",
    "from selenium.webdriver.common.by import By\n",
    "from selenium.webdriver.support.ui import WebDriverWait\n",
    "import time\n",
    "import os"
   ]
  },
  {
   "cell_type": "code",
   "execution_count": 2,
   "id": "892d4b0c-c15d-46ac-b956-c1a8984cbaf1",
   "metadata": {},
   "outputs": [],
   "source": [
    "#폴더 생성\n",
    "search = '순이'\n",
    "if search not in os.listdir(): os.mkdir(search)  #폴더 생성\n",
    "imgurl = []"
   ]
  },
  {
   "cell_type": "code",
   "execution_count": 3,
   "id": "ab7acef3-539c-455a-afe2-d3dc449aba59",
   "metadata": {},
   "outputs": [],
   "source": [
    "#인터넷 창 띄우기\n",
    "driver = webdriver.Chrome()\n",
    "url = 'https://pcmap.place.naver.com/restaurant/1336470115/photo?entry=pll&from=map&fromNxList=true&fromPanelNum=1&ts=1653985461161&filterType=%EC%9D%8C%EC%8B%9D#'\n",
    "driver.get(url)"
   ]
  },
  {
   "cell_type": "code",
   "execution_count": 4,
   "id": "ecfe0714-37c0-4401-93c6-60256a006dd1",
   "metadata": {},
   "outputs": [
    {
     "name": "stdout",
     "output_type": "stream",
     "text": [
      "스크롤 0번 실행, 30개 그림을 가져올 수 있습니다.\n",
      "스크롤 1번 실행, 59개 그림을 가져올 수 있습니다.\n",
      "스크롤 2번 실행, 89개 그림을 가져올 수 있습니다.\n",
      "스크롤 3번 실행, 119개 그림을 가져올 수 있습니다.\n",
      "스크롤 4번 실행, 149개 그림을 가져올 수 있습니다.\n",
      "스크롤 5번 실행, 179개 그림을 가져올 수 있습니다.\n",
      "스크롤 6번 실행, 209개 그림을 가져올 수 있습니다.\n",
      "스크롤 7번 실행, 239개 그림을 가져올 수 있습니다.\n",
      "스크롤 8번 실행, 269개 그림을 가져올 수 있습니다.\n",
      "스크롤 9번 실행, 299개 그림을 가져올 수 있습니다.\n",
      "스크롤 10번 실행, 329개 그림을 가져올 수 있습니다.\n"
     ]
    }
   ],
   "source": [
    "scroll_num = 10 #스크롤 횟수\n",
    "scroll_pause_time=1.5 #스크롤 내릴때 이미지 로딩되는 시간 기다림\n",
    "upscroll=-100\n",
    "#스크롤 하기\n",
    "#스크롤은 기다리기 귀찮으면 직접 한 후에 아래 코드 실행해도 됨\n",
    "#인터넷 환경에 따라 이미지 로딩이 느릴때, 스크롤이 적게 실행될 수 있음\n",
    "breaker = [] # 업데이트 5회이상 안될시, break\n",
    "\n",
    "\n",
    "for i in range(scroll_num+1):\n",
    "\n",
    "    #파싱\n",
    "    html = driver.page_source\n",
    "    soup = BeautifulSoup(html)\n",
    "    naver = soup.find_all(class_='_img')\n",
    "    for pic in naver:\n",
    "        imgurl.append(pic['src']) #이미지 주소 가져오기\n",
    "        imgurl = (list(set(imgurl))) #이미지주소 중복 제거\n",
    "    \n",
    "    print('스크롤 {}번 실행, {}개 그림을 가져올 수 있습니다.'.format(i, len(list(set(imgurl)))))\n",
    "    breaker.append(len(list(set(imgurl))))\n",
    "    time.sleep(scroll_pause_time)\n",
    "    last_height = driver.execute_script(\"return document.body.scrollHeight\")\n",
    "    driver.execute_script(\"window.scrollTo(0, document.body.scrollHeight);\")\n",
    "    time.sleep(scroll_pause_time)\n",
    "    new_height = driver.execute_script(\"return document.body.scrollHeight\")\n",
    "    driver.execute_script('scrollBy(0,{})'.format(upscroll))\n",
    "    \n",
    "    if new_height == last_height:\n",
    "        driver.execute_script(\"window.scrollTo(0, document.body.scrollHeight);\")\n",
    "        time.sleep(scroll_pause_time)\n",
    "        new_height = driver.execute_script(\"return document.body.scrollHeight\")\n",
    "        driver.execute_script('scrollBy(0,{})'.format(upscroll))\n",
    "        if new_height == last_height:\n",
    "            driver.execute_script(\"window.scrollTo(0, document.body.scrollHeight);\")\n",
    "            time.sleep(scroll_pause_time)\n",
    "            new_height = driver.execute_script(\"return document.body.scrollHeight\")\n",
    "            driver.execute_script('scrollBy(0,{})'.format(upscroll))\n",
    "        else:\n",
    "            last_height = new_height\n",
    "            continue\n",
    "    if len(breaker)>5 and breaker[-5]==breaker[-1]: \n",
    "        print('더이상 update가 없습니다.')\n",
    "        break"
   ]
  },
  {
   "cell_type": "code",
   "execution_count": 5,
   "id": "62537cb5-c005-4eda-876e-66f637df1a47",
   "metadata": {},
   "outputs": [
    {
     "name": "stdout",
     "output_type": "stream",
     "text": [
      "이미지 저장 중 : 329/329\r"
     ]
    }
   ],
   "source": [
    "for i, pic in enumerate(imgurl):\n",
    "    with urlopen(pic) as f: #날짜 시간 포함하여 이미지 저장\n",
    "        with open('./'+search+'/'+search+'_'+'{0:05d}'.format(i+1)+'_'+time.strftime('%y%m%d-%H%M')+'.jpg','wb') as h:\n",
    "            img = f.read()\n",
    "            h.write(img)\n",
    "    print('이미지 저장 중 : {}/{}'.format(i+1,len(imgurl)), end='\\r', flush=True)"
   ]
  },
  {
   "cell_type": "code",
   "execution_count": null,
   "id": "42850ce1-1efd-469d-adef-0bc2671de35b",
   "metadata": {},
   "outputs": [],
   "source": []
  }
 ],
 "metadata": {
  "kernelspec": {
   "display_name": "Python 3",
   "language": "python",
   "name": "python3"
  },
  "language_info": {
   "codemirror_mode": {
    "name": "ipython",
    "version": 3
   },
   "file_extension": ".py",
   "mimetype": "text/x-python",
   "name": "python",
   "nbconvert_exporter": "python",
   "pygments_lexer": "ipython3",
   "version": "3.6.13"
  }
 },
 "nbformat": 4,
 "nbformat_minor": 5
}
