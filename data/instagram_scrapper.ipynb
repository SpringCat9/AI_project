{
 "cells": [
  {
   "cell_type": "code",
   "execution_count": 1,
   "id": "e9232f59-6f42-4490-9b47-5f0de92ee44f",
   "metadata": {},
   "outputs": [],
   "source": [
    "from urllib.request import urlopen\n",
    "from urllib.parse import quote_plus as qp #문자 아스키코드로 변환\n",
    "from bs4 import BeautifulSoup\n",
    "from selenium import webdriver\n",
    "from selenium.webdriver.support import expected_conditions as EC\n",
    "from selenium.webdriver.common.by import By\n",
    "from selenium.webdriver.support.ui import WebDriverWait\n",
    "import time\n",
    "import os"
   ]
  },
  {
   "cell_type": "code",
   "execution_count": 2,
   "id": "ab7acef3-539c-455a-afe2-d3dc449aba59",
   "metadata": {},
   "outputs": [],
   "source": [
    "#인터넷 창 띄우기(chrome driver에 각자 개별 로그인)\n",
    "driver = webdriver.Chrome()\n",
    "url = 'https://www.instagram.com/'\n",
    "driver.get(url)"
   ]
  },
  {
   "cell_type": "code",
   "execution_count": 72,
   "id": "2ab3ff37-72e6-4e2f-8636-5670e3dbbe4c",
   "metadata": {},
   "outputs": [],
   "source": [
    "#검색어 태그로 인터넷 창 이동\n",
    "# 홈페이지 업데이트 했는지 class 명이 바뀜\n",
    "class_name = '_aagt'\n",
    "search = '유재용손만두' #검색어\n",
    "baseurl = 'https://www.instagram.com/explore/tags/'\n",
    "url = baseurl + qp(search)\n",
    "driver.get(url)\n",
    "WebDriverWait(driver, 10).until(EC.element_to_be_clickable((By.CLASS_NAME,class_name)))\n",
    "imgurl=[] #이미지 url 저장 list"
   ]
  },
  {
   "cell_type": "code",
   "execution_count": 73,
   "id": "ecfe0714-37c0-4401-93c6-60256a006dd1",
   "metadata": {},
   "outputs": [
    {
     "name": "stdout",
     "output_type": "stream",
     "text": [
      "스크롤 0번 실행, 33개 그림을 가져올 수 있습니다.\n",
      "스크롤 1번 실행, 36개 그림을 가져올 수 있습니다.\n",
      "스크롤 2번 실행, 54개 그림을 가져올 수 있습니다.\n",
      "스크롤 3번 실행, 66개 그림을 가져올 수 있습니다.\n",
      "스크롤 4번 실행, 85개 그림을 가져올 수 있습니다.\n",
      "스크롤 5번 실행, 97개 그림을 가져올 수 있습니다.\n",
      "스크롤 6번 실행, 116개 그림을 가져올 수 있습니다.\n",
      "스크롤 7번 실행, 128개 그림을 가져올 수 있습니다.\n",
      "스크롤 8번 실행, 146개 그림을 가져올 수 있습니다.\n",
      "스크롤 9번 실행, 158개 그림을 가져올 수 있습니다.\n",
      "스크롤 10번 실행, 176개 그림을 가져올 수 있습니다.\n",
      "스크롤 11번 실행, 188개 그림을 가져올 수 있습니다.\n",
      "스크롤 12번 실행, 206개 그림을 가져올 수 있습니다.\n",
      "스크롤 13번 실행, 218개 그림을 가져올 수 있습니다.\n",
      "스크롤 14번 실행, 236개 그림을 가져올 수 있습니다.\n",
      "스크롤 15번 실행, 248개 그림을 가져올 수 있습니다.\n",
      "스크롤 16번 실행, 266개 그림을 가져올 수 있습니다.\n",
      "스크롤 17번 실행, 278개 그림을 가져올 수 있습니다.\n",
      "스크롤 18번 실행, 297개 그림을 가져올 수 있습니다.\n",
      "스크롤 19번 실행, 306개 그림을 가져올 수 있습니다.\n",
      "스크롤 20번 실행, 328개 그림을 가져올 수 있습니다.\n",
      "스크롤 21번 실행, 337개 그림을 가져올 수 있습니다.\n",
      "스크롤 22번 실행, 358개 그림을 가져올 수 있습니다.\n",
      "스크롤 23번 실행, 367개 그림을 가져올 수 있습니다.\n",
      "스크롤 24번 실행, 389개 그림을 가져올 수 있습니다.\n",
      "스크롤 25번 실행, 398개 그림을 가져올 수 있습니다.\n",
      "스크롤 26번 실행, 419개 그림을 가져올 수 있습니다.\n",
      "스크롤 27번 실행, 428개 그림을 가져올 수 있습니다.\n",
      "스크롤 28번 실행, 449개 그림을 가져올 수 있습니다.\n",
      "스크롤 29번 실행, 458개 그림을 가져올 수 있습니다.\n",
      "스크롤 30번 실행, 479개 그림을 가져올 수 있습니다.\n",
      "스크롤 31번 실행, 488개 그림을 가져올 수 있습니다.\n",
      "스크롤 32번 실행, 509개 그림을 가져올 수 있습니다.\n",
      "사진의 수가 509개로 최대개수인 500개 이상입니다\n"
     ]
    }
   ],
   "source": [
    "scroll_num = 100 #스크롤 횟수\n",
    "scroll_pause_time=1.5 #스크롤 내릴때 이미지 로딩되는 시간 기다림\n",
    "upscroll=-100\n",
    "pic_num = 500 # 최대로 가져올 사진의 수\n",
    "\n",
    "#스크롤 하기\n",
    "#스크롤은 기다리기 귀찮으면 직접 한 후에 아래 코드 실행해도 됨\n",
    "#인터넷 환경에 따라 이미지 로딩이 느릴때, 스크롤이 적게 실행될 수 있음\n",
    "breaker = [] # 업데이트 5회이상 안될시, break\n",
    "\n",
    "\n",
    "for i in range(scroll_num+1):\n",
    "\n",
    "    #파싱\n",
    "    html = driver.page_source\n",
    "    soup = BeautifulSoup(html)\n",
    "    insta = soup.select('.'+class_name)\n",
    "    for pic in insta:\n",
    "        imgurl.append(pic['src']) #이미지 주소 가져오기\n",
    "        imgurl = (list(set(imgurl))) #이미지주소 중복 제거\n",
    "    \n",
    "    print('스크롤 {}번 실행, {}개 그림을 가져올 수 있습니다.'.format(i, len(list(set(imgurl)))))\n",
    "    \n",
    "    breaker.append(len(list(set(imgurl))))\n",
    "    time.sleep(scroll_pause_time)\n",
    "    last_height = driver.execute_script(\"return document.body.scrollHeight\")\n",
    "    driver.execute_script(\"window.scrollTo(0, document.body.scrollHeight);\")\n",
    "    time.sleep(scroll_pause_time)\n",
    "    new_height = driver.execute_script(\"return document.body.scrollHeight\")\n",
    "    driver.execute_script('scrollBy(0,{})'.format(upscroll))\n",
    "    \n",
    "    if new_height == last_height:\n",
    "        driver.execute_script(\"window.scrollTo(0, document.body.scrollHeight);\")\n",
    "        time.sleep(scroll_pause_time)\n",
    "        new_height = driver.execute_script(\"return document.body.scrollHeight\")\n",
    "        driver.execute_script('scrollBy(0,{})'.format(upscroll))\n",
    "        if new_height == last_height:\n",
    "            driver.execute_script(\"window.scrollTo(0, document.body.scrollHeight);\")\n",
    "            time.sleep(scroll_pause_time)\n",
    "            new_height = driver.execute_script(\"return document.body.scrollHeight\")\n",
    "            driver.execute_script('scrollBy(0,{})'.format(upscroll))\n",
    "        else:\n",
    "            last_height = new_height\n",
    "            continue\n",
    "    if len(breaker)>5 and breaker[-5]==breaker[-1]: \n",
    "        print('더이상 update가 없습니다.')\n",
    "        break\n",
    "    if breaker[-1] >= pic_num:\n",
    "        print(f'사진의 수가 {breaker[-1]}개로 최대개수인 {pic_num}개 이상입니다')\n",
    "        break"
   ]
  },
  {
   "cell_type": "code",
   "execution_count": null,
   "id": "62537cb5-c005-4eda-876e-66f637df1a47",
   "metadata": {},
   "outputs": [
    {
     "name": "stdout",
     "output_type": "stream",
     "text": [
      "이미지 저장 중 : 323/509\r"
     ]
    }
   ],
   "source": [
    "if search not in os.listdir(): os.mkdir(search)  #폴더 생성\n",
    "for i, pic in enumerate(imgurl):\n",
    "    with urlopen(pic) as f: #날짜 시간 포함하여 이미지 저장\n",
    "        with open('./'+search+'/'+search+'_'+'{0:05d}'.format(i+1)+'_'+time.strftime('%y%m%d-%H%M')+'.jpg','wb') as h:\n",
    "            img = f.read()\n",
    "            h.write(img)\n",
    "    print('이미지 저장 중 : {}/{}'.format(i+1,len(imgurl)), end='\\r', flush=True)"
   ]
  },
  {
   "cell_type": "code",
   "execution_count": null,
   "id": "b6825bb6-1726-4a7a-8fc2-7c077816ee91",
   "metadata": {},
   "outputs": [],
   "source": []
  }
 ],
 "metadata": {
  "kernelspec": {
   "display_name": "Python 3",
   "language": "python",
   "name": "python3"
  },
  "language_info": {
   "codemirror_mode": {
    "name": "ipython",
    "version": 3
   },
   "file_extension": ".py",
   "mimetype": "text/x-python",
   "name": "python",
   "nbconvert_exporter": "python",
   "pygments_lexer": "ipython3",
   "version": "3.6.13"
  }
 },
 "nbformat": 4,
 "nbformat_minor": 5
}
