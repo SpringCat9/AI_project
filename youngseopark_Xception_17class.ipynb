{
 "cells": [
  {
   "cell_type": "code",
   "execution_count": 1,
   "metadata": {},
   "outputs": [],
   "source": [
    "import tensorflow as tf\n",
    "import numpy as np\n",
    "import matplotlib.pyplot as plt\n",
    "import os\n",
    "from tensorflow.keras import models\n",
    "from tensorflow.keras import layers\n",
    "from tensorflow.keras.preprocessing.image import ImageDataGenerator\n",
    "from tensorflow.keras.applications import Xception\n",
    "\n",
    "%matplotlib inline"
   ]
  },
  {
   "cell_type": "code",
   "execution_count": 2,
   "metadata": {},
   "outputs": [
    {
     "name": "stdout",
     "output_type": "stream",
     "text": [
      "INFO:tensorflow:Using MirroredStrategy with devices ('/job:localhost/replica:0/task:0/device:GPU:0', '/job:localhost/replica:0/task:0/device:GPU:1')\n",
      "Found 52020 images belonging to 17 classes.\n",
      "Found 17340 images belonging to 17 classes.\n",
      "Found 17340 images belonging to 17 classes.\n",
      "INFO:tensorflow:Reduce to /job:localhost/replica:0/task:0/device:CPU:0 then broadcast to ('/job:localhost/replica:0/task:0/device:CPU:0',).\n",
      "INFO:tensorflow:Reduce to /job:localhost/replica:0/task:0/device:CPU:0 then broadcast to ('/job:localhost/replica:0/task:0/device:CPU:0',).\n",
      "INFO:tensorflow:Reduce to /job:localhost/replica:0/task:0/device:CPU:0 then broadcast to ('/job:localhost/replica:0/task:0/device:CPU:0',).\n",
      "INFO:tensorflow:Reduce to /job:localhost/replica:0/task:0/device:CPU:0 then broadcast to ('/job:localhost/replica:0/task:0/device:CPU:0',).\n",
      "INFO:tensorflow:Reduce to /job:localhost/replica:0/task:0/device:CPU:0 then broadcast to ('/job:localhost/replica:0/task:0/device:CPU:0',).\n",
      "INFO:tensorflow:Reduce to /job:localhost/replica:0/task:0/device:CPU:0 then broadcast to ('/job:localhost/replica:0/task:0/device:CPU:0',).\n",
      "INFO:tensorflow:Reduce to /job:localhost/replica:0/task:0/device:CPU:0 then broadcast to ('/job:localhost/replica:0/task:0/device:CPU:0',).\n",
      "INFO:tensorflow:Reduce to /job:localhost/replica:0/task:0/device:CPU:0 then broadcast to ('/job:localhost/replica:0/task:0/device:CPU:0',).\n",
      "INFO:tensorflow:Reduce to /job:localhost/replica:0/task:0/device:CPU:0 then broadcast to ('/job:localhost/replica:0/task:0/device:CPU:0',).\n",
      "INFO:tensorflow:Reduce to /job:localhost/replica:0/task:0/device:CPU:0 then broadcast to ('/job:localhost/replica:0/task:0/device:CPU:0',).\n",
      "Epoch 1/5\n",
      "WARNING:tensorflow:From /usr/local/lib/python3.8/dist-packages/tensorflow/python/data/ops/multi_device_iterator_ops.py:601: get_next_as_optional (from tensorflow.python.data.ops.iterator_ops) is deprecated and will be removed in a future version.\n",
      "Instructions for updating:\n",
      "Use `tf.data.Iterator.get_next_as_optional()` instead.\n",
      "INFO:tensorflow:batch_all_reduce: 6 all-reduces with algorithm = nccl, num_packs = 1\n",
      "INFO:tensorflow:batch_all_reduce: 6 all-reduces with algorithm = nccl, num_packs = 1\n",
      "1626/1626 [==============================] - ETA: 0s - loss: 0.3007 - accuracy: 0.9044\n",
      "Epoch 00001: saving model to ./save_models/Xception_17class_0001.h5\n",
      "1626/1626 [==============================] - 95s 59ms/step - loss: 0.3007 - accuracy: 0.9044 - val_loss: 0.5278 - val_accuracy: 0.8587\n",
      "Epoch 2/5\n",
      "1626/1626 [==============================] - ETA: 0s - loss: 0.0808 - accuracy: 0.9733\n",
      "Epoch 00002: saving model to ./save_models/Xception_17class_0002.h5\n",
      "1626/1626 [==============================] - 95s 58ms/step - loss: 0.0808 - accuracy: 0.9733 - val_loss: 0.7196 - val_accuracy: 0.8434\n",
      "Epoch 3/5\n",
      "1625/1626 [============================>.] - ETA: 0s - loss: 0.0579 - accuracy: 0.9813\n",
      "Epoch 00003: saving model to ./save_models/Xception_17class_0003.h5\n",
      "1626/1626 [==============================] - 91s 56ms/step - loss: 0.0579 - accuracy: 0.9813 - val_loss: 0.6764 - val_accuracy: 0.8557\n",
      "Epoch 4/5\n",
      "1626/1626 [==============================] - ETA: 0s - loss: 0.0389 - accuracy: 0.9879\n",
      "Epoch 00004: saving model to ./save_models/Xception_17class_0004.h5\n",
      "1626/1626 [==============================] - 90s 56ms/step - loss: 0.0389 - accuracy: 0.9879 - val_loss: 0.7677 - val_accuracy: 0.8742\n",
      "Epoch 5/5\n",
      "1626/1626 [==============================] - ETA: 0s - loss: 0.0377 - accuracy: 0.9878\n",
      "Epoch 00005: saving model to ./save_models/Xception_17class_0005.h5\n",
      "1626/1626 [==============================] - 90s 56ms/step - loss: 0.0377 - accuracy: 0.9878 - val_loss: 0.6823 - val_accuracy: 0.8729\n"
     ]
    }
   ],
   "source": [
    "# 할당된 모든 GPU 사용하는 코드\n",
    "strategy = tf.distribute.MirroredStrategy()\n",
    "with strategy.scope():\n",
    "\n",
    "    model_name = 'Xception_17class'    \n",
    "    class_num = 17\n",
    "    batch_size = 32\n",
    "    target_size=(200,200)\n",
    "    epochs = 5\n",
    "    \n",
    "    gen = ImageDataGenerator(rescale=1/255.)\n",
    "    train_gen = gen.flow_from_directory('./data/train/', target_size=target_size, class_mode='categorical', batch_size=batch_size, shuffle=True)\n",
    "    valid_gen = gen.flow_from_directory('./data/valid/', target_size=target_size, class_mode='categorical', batch_size=batch_size, shuffle=True)\n",
    "    test_gen = gen.flow_from_directory('./data/test/', target_size=target_size, class_mode='categorical', batch_size=batch_size, shuffle=True)\n",
    "\n",
    "    transfer_base = Xception(weights='imagenet', include_top=False, input_shape=(200, 200, 3))\n",
    "    model = models.Sequential()\n",
    "    model.add(transfer_base)\n",
    "    model.add(layers.GlobalAveragePooling2D())\n",
    "    model.add(layers.Dense(512, activation='relu'))\n",
    "    model.add(layers.Dense(256, activation='relu'))\n",
    "    model.add(layers.Dense(class_num, activation='softmax'))\n",
    "    transfer_base.trainable = False\n",
    "    \n",
    "    #폴더생성\n",
    "    if 'save_models' not in os.listdir(): os.mkdir('save_models')\n",
    "    #모델 저장 path\n",
    "    dir_path = \"./save_models/\"\n",
    "    path_checkpoint = dir_path+model_name+\"_{epoch:04d}.h5\" \n",
    "    #모델 저장 코드(weight만 저장)\n",
    "    es_callback = tf.keras.callbacks.EarlyStopping(monitor=\"val_loss\", min_delta=0, patience=5, restore_best_weights=True)\n",
    "    modelckpt_callback = tf.keras.callbacks.ModelCheckpoint(monitor=\"val_loss\", filepath=path_checkpoint, verbose=1, save_freq='epoch')\n",
    "    #ensemble을 위해 5epoch마다 저장\n",
    "\n",
    "    #fit\n",
    "    optimizer = tf.keras.optimizers.Adam(learning_rate=0.001)\n",
    "    model.compile(optimizer = optimizer, loss = 'categorical_crossentropy', metrics = 'accuracy')\n",
    "    history = model.fit(train_gen, validation_data=valid_gen, batch_size=batch_size, epochs=epochs, callbacks=[es_callback, modelckpt_callback])"
   ]
  },
  {
   "cell_type": "code",
   "execution_count": 3,
   "metadata": {},
   "outputs": [
    {
     "data": {
      "text/plain": [
       "<matplotlib.legend.Legend at 0x7fc9472fbb80>"
      ]
     },
     "execution_count": 3,
     "metadata": {},
     "output_type": "execute_result"
    },
    {
     "data": {
      "image/png": "[encoded data removed]",
      "text/plain": [
       "<Figure size 432x288 with 1 Axes>"
      ]
     },
     "metadata": {
      "needs_background": "light"
     },
     "output_type": "display_data"
    }
   ],
   "source": [
    "plt.plot(history.history['accuracy'])\n",
    "plt.plot(history.history['val_accuracy'])\n",
    "plt.title('ACCURACY')\n",
    "plt.xlabel('epoch')\n",
    "plt.ylabel('accuracy')\n",
    "plt.grid()\n",
    "plt.legend(['train','validation'], loc = 'best')"
   ]
  },
  {
   "cell_type": "code",
   "execution_count": 4,
   "metadata": {},
   "outputs": [
    {
     "name": "stdout",
     "output_type": "stream",
     "text": [
      "542/542 [==============================] - 22s 41ms/step - loss: 0.7517 - accuracy: 0.8740\n",
      "Test loss: 0.7516604661941528\n",
      "Test accuracy: 0.8740484714508057\n"
     ]
    }
   ],
   "source": [
    "# 할당된 모든 GPU 사용하는 코드\n",
    "with strategy.scope():\n",
    "    #최고 성능 모델 불러오기\n",
    "    idx = history.history['val_accuracy'].index(max(history.history['val_accuracy']))\n",
    "    file = [i for i in os.listdir('save_models') if i.startswith(model_name)][idx]\n",
    "    latest = tf.train.latest_checkpoint(dir_path)\n",
    "    model_loaded = tf.keras.models.load_model(dir_path+file)\n",
    "\n",
    "    #test score 확인\n",
    "    loss, acc = model_loaded.evaluate(test_gen) \n",
    "\n",
    "    print('Test loss:', loss) \n",
    "    print('Test accuracy:', acc)"
   ]
  },
  {
   "cell_type": "code",
   "execution_count": null,
   "metadata": {},
   "outputs": [],
   "source": []
  }
 ],
 "metadata": {
  "kernelspec": {
   "display_name": "Python 3",
   "language": "python",
   "name": "python3"
  },
  "language_info": {
   "codemirror_mode": {
    "name": "ipython",
    "version": 3
   },
   "file_extension": ".py",
   "mimetype": "text/x-python",
   "name": "python",
   "nbconvert_exporter": "python",
   "pygments_lexer": "ipython3",
   "version": "3.8.0"
  }
 },
 "nbformat": 4,
 "nbformat_minor": 4
}
